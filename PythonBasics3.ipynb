{
 "cells": [
  {
   "cell_type": "markdown",
   "metadata": {
    "colab_type": "text",
    "id": "KwBSiUeJkHxW",
    "slideshow": {
     "slide_type": "slide"
    }
   },
   "source": [
    "# Numpy\n",
    "Matrix manipulation\n",
    "\n",
    "- Initializing matrix\n",
    "- Random matrix\n",
    "- Matrix Addition, Multiplication and Concatenation\n",
    "\n",
    "Video: https://www.youtube.com/watch?v=kxQ-HOENUIQ"
   ]
  },
  {
   "cell_type": "code",
   "execution_count": 2,
   "metadata": {
    "colab": {
     "base_uri": "https://localhost:8080/",
     "height": 117
    },
    "colab_type": "code",
    "executionInfo": {
     "elapsed": 1361,
     "status": "ok",
     "timestamp": 1561548993064,
     "user": {
      "displayName": "Manish yadav",
      "photoUrl": "",
      "userId": "03631221171996532686"
     },
     "user_tz": -330
    },
    "id": "GgF-Jo1fkHxa",
    "outputId": "c1752250-0ab4-44fe-84ad-1e43273aea10",
    "slideshow": {
     "slide_type": "slide"
    }
   },
   "outputs": [
    {
     "name": "stdout",
     "output_type": "stream",
     "text": [
      "[[1. 1.]\n",
      " [1. 1.]\n",
      " [1. 1.]]\n",
      "[[0. 0.]\n",
      " [0. 0.]\n",
      " [0. 0.]]\n"
     ]
    }
   ],
   "source": [
    "import numpy as np\n",
    "\n",
    "A = np.ones((3,2))\n",
    "print(A)\n",
    "\n",
    "A = np.zeros((3,2))\n",
    "print(A)"
   ]
  },
  {
   "cell_type": "code",
   "execution_count": 3,
   "metadata": {
    "colab": {
     "base_uri": "https://localhost:8080/",
     "height": 117
    },
    "colab_type": "code",
    "executionInfo": {
     "elapsed": 1327,
     "status": "ok",
     "timestamp": 1561548993066,
     "user": {
      "displayName": "Manish yadav",
      "photoUrl": "",
      "userId": "03631221171996532686"
     },
     "user_tz": -330
    },
    "id": "J5VLmfBYkHxp",
    "outputId": "b14b8430-a0be-4510-debf-9ea40f0c6e63"
   },
   "outputs": [
    {
     "name": "stdout",
     "output_type": "stream",
     "text": [
      "[[1. 0. 0.]\n",
      " [0. 1. 0.]\n",
      " [0. 0. 1.]]\n",
      "[[3 0 0]\n",
      " [0 2 0]\n",
      " [0 0 5]]\n"
     ]
    }
   ],
   "source": [
    "A = np.eye(3)\n",
    "print(A)\n",
    "\n",
    "A = np.diag([3,2,5])\n",
    "print(A)"
   ]
  },
  {
   "cell_type": "code",
   "execution_count": 4,
   "metadata": {
    "colab": {
     "base_uri": "https://localhost:8080/",
     "height": 100
    },
    "colab_type": "code",
    "executionInfo": {
     "elapsed": 1294,
     "status": "ok",
     "timestamp": 1561548993068,
     "user": {
      "displayName": "Manish yadav",
      "photoUrl": "",
      "userId": "03631221171996532686"
     },
     "user_tz": -330
    },
    "id": "YBkaSZP_kHxw",
    "outputId": "67b4c1af-e78a-415f-b6d5-6c5855f7291b",
    "slideshow": {
     "slide_type": "slide"
    }
   },
   "outputs": [
    {
     "name": "stdout",
     "output_type": "stream",
     "text": [
      "[[0.35838758 0.44428069]\n",
      " [0.68095958 0.94628009]\n",
      " [0.33360207 0.68993096]]\n",
      "[[0.35838758 0.68095958 0.33360207]\n",
      " [0.44428069 0.94628009 0.68993096]]\n"
     ]
    }
   ],
   "source": [
    "B = np.random.random((3,2))\n",
    "print(B)\n",
    "\n",
    "print(B.T)"
   ]
  },
  {
   "cell_type": "code",
   "execution_count": 5,
   "metadata": {
    "colab": {
     "base_uri": "https://localhost:8080/",
     "height": 167
    },
    "colab_type": "code",
    "executionInfo": {
     "elapsed": 1264,
     "status": "ok",
     "timestamp": 1561548993069,
     "user": {
      "displayName": "Manish yadav",
      "photoUrl": "",
      "userId": "03631221171996532686"
     },
     "user_tz": -330
    },
    "id": "oR9tCA34kHx4",
    "outputId": "b179b1e0-3016-4439-dc98-4288e530e814",
    "slideshow": {
     "slide_type": "slide"
    }
   },
   "outputs": [
    {
     "name": "stdout",
     "output_type": "stream",
     "text": [
      "[[0.35838758 0.44428069]\n",
      " [0.68095958 0.94628009]\n",
      " [0.33360207 0.68993096]] \n",
      "\n",
      "0.3583875824570223\n",
      "0.6809595828025373\n",
      "0.6899309602429873\n",
      "[0.35838758 0.44428069]\n",
      "[0.44428069 0.94628009 0.68993096]\n"
     ]
    }
   ],
   "source": [
    "print(B, '\\n')\n",
    "\n",
    "print(B[0, 0])\n",
    "print(B[1,0])\n",
    "print(B[-1, -1])\n",
    "print(B[0,:])\n",
    "print(B[:,1])\n"
   ]
  },
  {
   "cell_type": "markdown",
   "metadata": {
    "colab_type": "text",
    "id": "EnFqtdj7kHyD",
    "slideshow": {
     "slide_type": "slide"
    }
   },
   "source": [
    "## Matrix Addition\n",
    "$C = A^{\\intercal} + 2B$"
   ]
  },
  {
   "cell_type": "code",
   "execution_count": 6,
   "metadata": {
    "colab": {
     "base_uri": "https://localhost:8080/",
     "height": 150
    },
    "colab_type": "code",
    "executionInfo": {
     "elapsed": 1225,
     "status": "ok",
     "timestamp": 1561548993070,
     "user": {
      "displayName": "Manish yadav",
      "photoUrl": "",
      "userId": "03631221171996532686"
     },
     "user_tz": -330
    },
    "id": "3M9eI4OKkHyE",
    "outputId": "d9906383-85bf-4332-c66d-f844150d6c0e",
    "slideshow": {
     "slide_type": "slide"
    }
   },
   "outputs": [
    {
     "name": "stdout",
     "output_type": "stream",
     "text": [
      "[[1. 1. 1.]\n",
      " [1. 1. 1.]]\n",
      "[[0.30162281 0.12657757]\n",
      " [0.58619487 0.15097219]\n",
      " [0.27951592 0.10816549]]\n",
      "[[1.60324562 1.25315513]\n",
      " [2.17238974 1.30194439]\n",
      " [1.55903185 1.21633098]]\n"
     ]
    }
   ],
   "source": [
    "A = np.ones((2,3))\n",
    "B = np.random.random((3,2))\n",
    "C = A.T + 2*B\n",
    "print(A)\n",
    "print(B)\n",
    "print(C)"
   ]
  },
  {
   "cell_type": "markdown",
   "metadata": {
    "colab_type": "text",
    "id": "Y-bogt68kHyK",
    "slideshow": {
     "slide_type": "slide"
    }
   },
   "source": [
    "## Matrix Multiplication\n",
    "$C = AB$"
   ]
  },
  {
   "cell_type": "code",
   "execution_count": 7,
   "metadata": {
    "colab": {
     "base_uri": "https://localhost:8080/",
     "height": 50
    },
    "colab_type": "code",
    "executionInfo": {
     "elapsed": 1183,
     "status": "ok",
     "timestamp": 1561548993071,
     "user": {
      "displayName": "Manish yadav",
      "photoUrl": "",
      "userId": "03631221171996532686"
     },
     "user_tz": -330
    },
    "id": "HPg_hIzjkHyL",
    "outputId": "629cb686-63d3-4f5c-a1f4-2e566c7d8044",
    "slideshow": {
     "slide_type": "slide"
    }
   },
   "outputs": [
    {
     "name": "stdout",
     "output_type": "stream",
     "text": [
      "[[1.1673336  0.38571525]\n",
      " [1.1673336  0.38571525]]\n"
     ]
    }
   ],
   "source": [
    "C = A.dot(B)   # Dot product \n",
    "print(C)"
   ]
  },
  {
   "cell_type": "code",
   "execution_count": 8,
   "metadata": {
    "colab": {
     "base_uri": "https://localhost:8080/",
     "height": 67
    },
    "colab_type": "code",
    "executionInfo": {
     "elapsed": 1161,
     "status": "ok",
     "timestamp": 1561548993073,
     "user": {
      "displayName": "Manish yadav",
      "photoUrl": "",
      "userId": "03631221171996532686"
     },
     "user_tz": -330
    },
    "id": "L-H1jWDwkHyQ",
    "outputId": "e38e89a9-5b2c-428e-db5c-16cee27a97f2",
    "slideshow": {
     "slide_type": "slide"
    }
   },
   "outputs": [
    {
     "name": "stdout",
     "output_type": "stream",
     "text": [
      "[[0.30162281 0.12657757]\n",
      " [0.58619487 0.15097219]\n",
      " [0.27951592 0.10816549]]\n"
     ]
    }
   ],
   "source": [
    "C = A.T * B     # Element-wise product\n",
    "print(C)"
   ]
  },
  {
   "cell_type": "markdown",
   "metadata": {
    "colab_type": "text",
    "id": "Xxtgqo6_kHyZ",
    "slideshow": {
     "slide_type": "slide"
    }
   },
   "source": [
    "## Matrix Concatenation\n",
    "$C = [A^{\\intercal},  B]$"
   ]
  },
  {
   "cell_type": "code",
   "execution_count": 11,
   "metadata": {
    "colab": {
     "base_uri": "https://localhost:8080/",
     "height": 117
    },
    "colab_type": "code",
    "executionInfo": {
     "elapsed": 1140,
     "status": "ok",
     "timestamp": 1561549024809,
     "user": {
      "displayName": "Manish yadav",
      "photoUrl": "",
      "userId": "03631221171996532686"
     },
     "user_tz": -330
    },
    "id": "CuqGPFf9kHya",
    "outputId": "32e694d0-d1fb-4dbe-b7a3-022d454d47dd",
    "slideshow": {
     "slide_type": "slide"
    }
   },
   "outputs": [
    {
     "name": "stdout",
     "output_type": "stream",
     "text": [
      "[[1.         1.        ]\n",
      " [1.         1.        ]\n",
      " [1.         1.        ]\n",
      " [0.30162281 0.12657757]\n",
      " [0.58619487 0.15097219]\n",
      " [0.27951592 0.10816549]]\n"
     ]
    }
   ],
   "source": [
    "#print(A.T.shape, B.shape)\n",
    "C = np.concatenate((A.T,B), axis=1)\n",
    "D = np.concatenate((A.T,B), axis=0)\n",
    "#print(C)\n",
    "print(D)"
   ]
  },
  {
   "cell_type": "code",
   "execution_count": 10,
   "metadata": {
    "colab": {
     "base_uri": "https://localhost:8080/",
     "height": 67
    },
    "colab_type": "code",
    "executionInfo": {
     "elapsed": 1119,
     "status": "ok",
     "timestamp": 1561548993077,
     "user": {
      "displayName": "Manish yadav",
      "photoUrl": "",
      "userId": "03631221171996532686"
     },
     "user_tz": -330
    },
    "id": "d2urUPc0kHyg",
    "outputId": "c7cb44a0-2633-4e47-ec13-e5cadeda66dd",
    "slideshow": {
     "slide_type": "slide"
    }
   },
   "outputs": [
    {
     "name": "stdout",
     "output_type": "stream",
     "text": [
      "[1. 1. 1. 1. 2. 3. 4. 5.]\n",
      "[[1. 1. 1. 1.]\n",
      " [2. 3. 4. 5.]]\n"
     ]
    }
   ],
   "source": [
    "# Concatenating Vectors\n",
    "a = np.ones(4)\n",
    "b = np.array([2,3,4,5])\n",
    "X = np.hstack([a,b])\n",
    "Y = np.vstack([a,b])\n",
    "print(X)\n",
    "print(Y)"
   ]
  }
 ],
 "metadata": {
  "colab": {
   "name": "PythonBasics_numpy.ipynb",
   "provenance": [],
   "version": "0.3.2"
  },
  "kernelspec": {
   "display_name": "Python 3",
   "language": "python",
   "name": "python3"
  },
  "language_info": {
   "codemirror_mode": {
    "name": "ipython",
    "version": 3
   },
   "file_extension": ".py",
   "mimetype": "text/x-python",
   "name": "python",
   "nbconvert_exporter": "python",
   "pygments_lexer": "ipython3",
   "version": "3.7.3"
  }
 },
 "nbformat": 4,
 "nbformat_minor": 1
}
