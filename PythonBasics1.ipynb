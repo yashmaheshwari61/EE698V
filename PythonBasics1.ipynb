{
 "cells": [
  {
   "cell_type": "markdown",
   "metadata": {
    "colab_type": "text",
    "id": "N3t-d6oQjmPM",
    "slideshow": {
     "slide_type": "slide"
    }
   },
   "source": [
    "# Introduction to Python\n",
    "* Numbers\n",
    "* Strings\n",
    "* Lists\n",
    "* Dictionaries\n",
    "* Conditionals (if-else)\n",
    "* Loops\n",
    "\n",
    "Video: https://www.youtube.com/watch?v=qZ_RJSJk534"
   ]
  },
  {
   "cell_type": "markdown",
   "metadata": {
    "colab_type": "text",
    "id": "Xsq57qcijmPU",
    "slideshow": {
     "slide_type": "slide"
    }
   },
   "source": [
    "# Integers and Floats (decimal numbers)"
   ]
  },
  {
   "cell_type": "code",
   "execution_count": 0,
   "metadata": {
    "colab": {
     "base_uri": "https://localhost:8080/",
     "height": 34
    },
    "colab_type": "code",
    "executionInfo": {
     "elapsed": 1414,
     "status": "ok",
     "timestamp": 1560233216268,
     "user": {
      "displayName": "sachin kumar sahoo",
      "photoUrl": "https://lh3.googleusercontent.com/-d5Na2Cmv7Us/AAAAAAAAAAI/AAAAAAAAAbE/BuiMQpBwiKA/s64/photo.jpg",
      "userId": "04645023824496771729"
     },
     "user_tz": -330
    },
    "id": "Zvx0fiQwjmPX",
    "outputId": "221eb2d2-7ab6-4c66-b2ad-58bd6e3b5684",
    "slideshow": {
     "slide_type": "slide"
    }
   },
   "outputs": [
    {
     "name": "stdout",
     "output_type": "stream",
     "text": [
      "16 4 60 1.6666666666666667\n"
     ]
    }
   ],
   "source": [
    "a = 10\n",
    "b = 6\n",
    "print(a+b, a-b, a*b, a/b)"
   ]
  },
  {
   "cell_type": "code",
   "execution_count": 0,
   "metadata": {
    "colab": {
     "base_uri": "https://localhost:8080/",
     "height": 34
    },
    "colab_type": "code",
    "executionInfo": {
     "elapsed": 2111,
     "status": "ok",
     "timestamp": 1560233216972,
     "user": {
      "displayName": "sachin kumar sahoo",
      "photoUrl": "https://lh3.googleusercontent.com/-d5Na2Cmv7Us/AAAAAAAAAAI/AAAAAAAAAbE/BuiMQpBwiKA/s64/photo.jpg",
      "userId": "04645023824496771729"
     },
     "user_tz": -330
    },
    "id": "bhpGnMtijmPv",
    "outputId": "c04ce7b0-a99e-45e3-9c7c-e8defe78ff6e",
    "slideshow": {
     "slide_type": "slide"
    }
   },
   "outputs": [
    {
     "name": "stdout",
     "output_type": "stream",
     "text": [
      "16.5 3.6999999999999993 64.64 1.5781249999999998\n"
     ]
    }
   ],
   "source": [
    "a = 10.1\n",
    "b = 6.4\n",
    "print(a+b, a-b, a*b, a/b)"
   ]
  },
  {
   "cell_type": "code",
   "execution_count": 0,
   "metadata": {
    "colab": {
     "base_uri": "https://localhost:8080/",
     "height": 34
    },
    "colab_type": "code",
    "executionInfo": {
     "elapsed": 2114,
     "status": "ok",
     "timestamp": 1560233216979,
     "user": {
      "displayName": "sachin kumar sahoo",
      "photoUrl": "https://lh3.googleusercontent.com/-d5Na2Cmv7Us/AAAAAAAAAAI/AAAAAAAAAbE/BuiMQpBwiKA/s64/photo.jpg",
      "userId": "04645023824496771729"
     },
     "user_tz": -330
    },
    "id": "E4jWDxhTjmP9",
    "outputId": "2fea92b5-d450-4363-f3e5-9ed6edd827cf"
   },
   "outputs": [
    {
     "name": "stdout",
     "output_type": "stream",
     "text": [
      "<class 'int'>\n"
     ]
    }
   ],
   "source": [
    "a = 2\n",
    "print(type(a))"
   ]
  },
  {
   "cell_type": "markdown",
   "metadata": {
    "colab_type": "text",
    "id": "GMD8yGzNjmQI",
    "slideshow": {
     "slide_type": "slide"
    }
   },
   "source": [
    "# Strings"
   ]
  },
  {
   "cell_type": "code",
   "execution_count": 0,
   "metadata": {
    "colab": {
     "base_uri": "https://localhost:8080/",
     "height": 34
    },
    "colab_type": "code",
    "executionInfo": {
     "elapsed": 2081,
     "status": "ok",
     "timestamp": 1560233216984,
     "user": {
      "displayName": "sachin kumar sahoo",
      "photoUrl": "https://lh3.googleusercontent.com/-d5Na2Cmv7Us/AAAAAAAAAAI/AAAAAAAAAbE/BuiMQpBwiKA/s64/photo.jpg",
      "userId": "04645023824496771729"
     },
     "user_tz": -330
    },
    "id": "YqRCzCoDjmQK",
    "outputId": "6b71373b-dd93-4fec-842d-61475b0dca89",
    "slideshow": {
     "slide_type": "slide"
    }
   },
   "outputs": [
    {
     "name": "stdout",
     "output_type": "stream",
     "text": [
      "BananaShake\n"
     ]
    }
   ],
   "source": [
    "a = \"Banana\"\n",
    "b = \"Shake\"\n",
    "c = a+b\n",
    "print(c)"
   ]
  },
  {
   "cell_type": "code",
   "execution_count": 0,
   "metadata": {
    "colab": {
     "base_uri": "https://localhost:8080/",
     "height": 34
    },
    "colab_type": "code",
    "executionInfo": {
     "elapsed": 2081,
     "status": "ok",
     "timestamp": 1560233216988,
     "user": {
      "displayName": "sachin kumar sahoo",
      "photoUrl": "https://lh3.googleusercontent.com/-d5Na2Cmv7Us/AAAAAAAAAAI/AAAAAAAAAbE/BuiMQpBwiKA/s64/photo.jpg",
      "userId": "04645023824496771729"
     },
     "user_tz": -330
    },
    "id": "Dh69LxtCjmQX",
    "outputId": "6a6a8f92-fd3e-4acc-9606-6c1c643f35f1",
    "slideshow": {
     "slide_type": "slide"
    }
   },
   "outputs": [
    {
     "name": "stdout",
     "output_type": "stream",
     "text": [
      "Banana Shake\n"
     ]
    }
   ],
   "source": [
    "c = a+\" \"+b\n",
    "print(c) # Let us add a space bar too"
   ]
  },
  {
   "cell_type": "code",
   "execution_count": 0,
   "metadata": {
    "colab": {
     "base_uri": "https://localhost:8080/",
     "height": 34
    },
    "colab_type": "code",
    "executionInfo": {
     "elapsed": 2085,
     "status": "ok",
     "timestamp": 1560233216994,
     "user": {
      "displayName": "sachin kumar sahoo",
      "photoUrl": "https://lh3.googleusercontent.com/-d5Na2Cmv7Us/AAAAAAAAAAI/AAAAAAAAAbE/BuiMQpBwiKA/s64/photo.jpg",
      "userId": "04645023824496771729"
     },
     "user_tz": -330
    },
    "id": "I0qKw5pDjmQj",
    "outputId": "42419397-8e7d-4f02-d5cd-1078fc09641e",
    "slideshow": {
     "slide_type": "slide"
    }
   },
   "outputs": [
    {
     "name": "stdout",
     "output_type": "stream",
     "text": [
      "B\n"
     ]
    }
   ],
   "source": [
    "print(c[0])    # Indexing"
   ]
  },
  {
   "cell_type": "code",
   "execution_count": 0,
   "metadata": {
    "colab": {
     "base_uri": "https://localhost:8080/",
     "height": 34
    },
    "colab_type": "code",
    "executionInfo": {
     "elapsed": 2085,
     "status": "ok",
     "timestamp": 1560233216997,
     "user": {
      "displayName": "sachin kumar sahoo",
      "photoUrl": "https://lh3.googleusercontent.com/-d5Na2Cmv7Us/AAAAAAAAAAI/AAAAAAAAAbE/BuiMQpBwiKA/s64/photo.jpg",
      "userId": "04645023824496771729"
     },
     "user_tz": -330
    },
    "id": "oflbwhQxjmQv",
    "outputId": "3870ea6b-6276-4526-cdc0-f31cc5ecce18",
    "slideshow": {
     "slide_type": "slide"
    }
   },
   "outputs": [
    {
     "name": "stdout",
     "output_type": "stream",
     "text": [
      "nana S\n"
     ]
    }
   ],
   "source": [
    "print(c[2:8])   # Substring"
   ]
  },
  {
   "cell_type": "code",
   "execution_count": 0,
   "metadata": {
    "colab": {
     "base_uri": "https://localhost:8080/",
     "height": 34
    },
    "colab_type": "code",
    "executionInfo": {
     "elapsed": 2082,
     "status": "ok",
     "timestamp": 1560233216999,
     "user": {
      "displayName": "sachin kumar sahoo",
      "photoUrl": "https://lh3.googleusercontent.com/-d5Na2Cmv7Us/AAAAAAAAAAI/AAAAAAAAAbE/BuiMQpBwiKA/s64/photo.jpg",
      "userId": "04645023824496771729"
     },
     "user_tz": -330
    },
    "id": "B-T7qneEjmQ8",
    "outputId": "a1f2a621-fd90-4825-bcb4-f2964e7d480f",
    "slideshow": {
     "slide_type": "slide"
    }
   },
   "outputs": [
    {
     "name": "stdout",
     "output_type": "stream",
     "text": [
      "12\n"
     ]
    }
   ],
   "source": [
    "print(len(c))   # Length"
   ]
  },
  {
   "cell_type": "markdown",
   "metadata": {
    "colab_type": "text",
    "id": "m6MigH07jmRH",
    "slideshow": {
     "slide_type": "slide"
    }
   },
   "source": [
    "# Lists\n",
    "Let us create a shopping list:\n",
    "1. Milk\n",
    "2. Banana\n",
    "3. Carrots"
   ]
  },
  {
   "cell_type": "code",
   "execution_count": 0,
   "metadata": {
    "colab": {
     "base_uri": "https://localhost:8080/",
     "height": 52
    },
    "colab_type": "code",
    "executionInfo": {
     "elapsed": 2062,
     "status": "ok",
     "timestamp": 1560233217002,
     "user": {
      "displayName": "sachin kumar sahoo",
      "photoUrl": "https://lh3.googleusercontent.com/-d5Na2Cmv7Us/AAAAAAAAAAI/AAAAAAAAAbE/BuiMQpBwiKA/s64/photo.jpg",
      "userId": "04645023824496771729"
     },
     "user_tz": -330
    },
    "id": "qO6a1rHcjmRK",
    "outputId": "109a1dc5-b316-40bb-bc60-b3ca7d511f3e",
    "slideshow": {
     "slide_type": "slide"
    }
   },
   "outputs": [
    {
     "name": "stdout",
     "output_type": "stream",
     "text": [
      "['Milk', 'Banana', 'Carrot']\n",
      "3\n"
     ]
    }
   ],
   "source": [
    "a = [\"Milk\", \"Banana\", \"Carrot\"]\n",
    "b = [1, 5, 6]\n",
    "print(a)\n",
    "length = len(a)\n",
    "print(length)"
   ]
  },
  {
   "cell_type": "markdown",
   "metadata": {
    "colab_type": "text",
    "id": "XpV7U6zNjmRU",
    "slideshow": {
     "slide_type": "slide"
    }
   },
   "source": [
    "**Indexing**: What is the 3rd item?"
   ]
  },
  {
   "cell_type": "code",
   "execution_count": 0,
   "metadata": {
    "colab": {
     "base_uri": "https://localhost:8080/",
     "height": 34
    },
    "colab_type": "code",
    "executionInfo": {
     "elapsed": 2042,
     "status": "ok",
     "timestamp": 1560233217006,
     "user": {
      "displayName": "sachin kumar sahoo",
      "photoUrl": "https://lh3.googleusercontent.com/-d5Na2Cmv7Us/AAAAAAAAAAI/AAAAAAAAAbE/BuiMQpBwiKA/s64/photo.jpg",
      "userId": "04645023824496771729"
     },
     "user_tz": -330
    },
    "id": "vRRHaYPUjmRW",
    "outputId": "c75ffc46-0bf2-4676-d99c-ae59c3ad933d",
    "slideshow": {
     "slide_type": "slide"
    }
   },
   "outputs": [
    {
     "name": "stdout",
     "output_type": "stream",
     "text": [
      "Carrot\n"
     ]
    }
   ],
   "source": [
    "print(a[2])"
   ]
  },
  {
   "cell_type": "markdown",
   "metadata": {
    "colab_type": "text",
    "id": "SmkP72BjjmRg",
    "slideshow": {
     "slide_type": "slide"
    }
   },
   "source": [
    "**Slicing**: Extract a sub-list "
   ]
  },
  {
   "cell_type": "code",
   "execution_count": 0,
   "metadata": {
    "colab": {
     "base_uri": "https://localhost:8080/",
     "height": 34
    },
    "colab_type": "code",
    "executionInfo": {
     "elapsed": 2042,
     "status": "ok",
     "timestamp": 1560233217009,
     "user": {
      "displayName": "sachin kumar sahoo",
      "photoUrl": "https://lh3.googleusercontent.com/-d5Na2Cmv7Us/AAAAAAAAAAI/AAAAAAAAAbE/BuiMQpBwiKA/s64/photo.jpg",
      "userId": "04645023824496771729"
     },
     "user_tz": -330
    },
    "id": "ikUdu5MJjmRj",
    "outputId": "14fe8042-1434-47f2-ad67-53a3117161d6"
   },
   "outputs": [
    {
     "name": "stdout",
     "output_type": "stream",
     "text": [
      "['Banana', 'Carrot']\n"
     ]
    }
   ],
   "source": [
    "print(a[1:3])"
   ]
  },
  {
   "cell_type": "markdown",
   "metadata": {
    "colab_type": "text",
    "id": "rEnD1lI7jmRw",
    "slideshow": {
     "slide_type": "slide"
    }
   },
   "source": [
    "**Modification** - Change \"Carrot\" to \"Tomato\""
   ]
  },
  {
   "cell_type": "code",
   "execution_count": 0,
   "metadata": {
    "colab": {
     "base_uri": "https://localhost:8080/",
     "height": 34
    },
    "colab_type": "code",
    "executionInfo": {
     "elapsed": 2024,
     "status": "ok",
     "timestamp": 1560233217012,
     "user": {
      "displayName": "sachin kumar sahoo",
      "photoUrl": "https://lh3.googleusercontent.com/-d5Na2Cmv7Us/AAAAAAAAAAI/AAAAAAAAAbE/BuiMQpBwiKA/s64/photo.jpg",
      "userId": "04645023824496771729"
     },
     "user_tz": -330
    },
    "id": "uBxR9H6WjmRz",
    "outputId": "c24badf3-df07-46ce-81f0-6fb0e0de4e36",
    "slideshow": {
     "slide_type": "slide"
    }
   },
   "outputs": [
    {
     "name": "stdout",
     "output_type": "stream",
     "text": [
      "['Milk', 'Banana', 'Tomato']\n"
     ]
    }
   ],
   "source": [
    "a[2] = \"Tomato\" \n",
    "print(a)"
   ]
  },
  {
   "cell_type": "markdown",
   "metadata": {
    "colab_type": "text",
    "id": "cky-1gUhjmR7",
    "slideshow": {
     "slide_type": "slide"
    }
   },
   "source": [
    "**Concatenation:** Your mother gave a list of rice, sugar and salt. Add it to your list."
   ]
  },
  {
   "cell_type": "code",
   "execution_count": 0,
   "metadata": {
    "colab": {
     "base_uri": "https://localhost:8080/",
     "height": 34
    },
    "colab_type": "code",
    "executionInfo": {
     "elapsed": 2007,
     "status": "ok",
     "timestamp": 1560233217016,
     "user": {
      "displayName": "sachin kumar sahoo",
      "photoUrl": "https://lh3.googleusercontent.com/-d5Na2Cmv7Us/AAAAAAAAAAI/AAAAAAAAAbE/BuiMQpBwiKA/s64/photo.jpg",
      "userId": "04645023824496771729"
     },
     "user_tz": -330
    },
    "id": "3-ozkditjmR-",
    "outputId": "e2810247-6fc4-4991-9982-f53b07cefa13",
    "slideshow": {
     "slide_type": "slide"
    }
   },
   "outputs": [
    {
     "name": "stdout",
     "output_type": "stream",
     "text": [
      "['Milk', 'Banana', 'Tomato', 'Rice', 'Sugar', 'Salt']\n"
     ]
    }
   ],
   "source": [
    "b = [\"Rice\", \"Sugar\", \"Salt\"]\n",
    "c = a+b\n",
    "print(c)"
   ]
  },
  {
   "cell_type": "markdown",
   "metadata": {
    "colab_type": "text",
    "id": "HHMLOxp9jmSJ",
    "slideshow": {
     "slide_type": "slide"
    }
   },
   "source": [
    "**Append:** Add another item - Apple"
   ]
  },
  {
   "cell_type": "code",
   "execution_count": 0,
   "metadata": {
    "colab": {
     "base_uri": "https://localhost:8080/",
     "height": 34
    },
    "colab_type": "code",
    "executionInfo": {
     "elapsed": 1989,
     "status": "ok",
     "timestamp": 1560233217020,
     "user": {
      "displayName": "sachin kumar sahoo",
      "photoUrl": "https://lh3.googleusercontent.com/-d5Na2Cmv7Us/AAAAAAAAAAI/AAAAAAAAAbE/BuiMQpBwiKA/s64/photo.jpg",
      "userId": "04645023824496771729"
     },
     "user_tz": -330
    },
    "id": "fBE1tH-DjmSL",
    "outputId": "8d632fea-6883-4801-fc85-ea5d3434b55d",
    "slideshow": {
     "slide_type": "slide"
    }
   },
   "outputs": [
    {
     "name": "stdout",
     "output_type": "stream",
     "text": [
      "['Milk', 'Banana', 'Tomato', 'Rice', 'Sugar', 'Salt', 'Apple']\n"
     ]
    }
   ],
   "source": [
    "d = c + [\"Apple\"]\n",
    "print(d)"
   ]
  },
  {
   "cell_type": "markdown",
   "metadata": {
    "colab_type": "text",
    "id": "mlrWpB1JjmSV",
    "slideshow": {
     "slide_type": "slide"
    }
   },
   "source": [
    "The same is possible with numbers too.\n",
    "A list can hold any data types."
   ]
  },
  {
   "cell_type": "code",
   "execution_count": 0,
   "metadata": {
    "colab": {
     "base_uri": "https://localhost:8080/",
     "height": 69
    },
    "colab_type": "code",
    "executionInfo": {
     "elapsed": 1970,
     "status": "ok",
     "timestamp": 1560233217022,
     "user": {
      "displayName": "sachin kumar sahoo",
      "photoUrl": "https://lh3.googleusercontent.com/-d5Na2Cmv7Us/AAAAAAAAAAI/AAAAAAAAAbE/BuiMQpBwiKA/s64/photo.jpg",
      "userId": "04645023824496771729"
     },
     "user_tz": -330
    },
    "id": "TWJUZh2pjmSY",
    "outputId": "1d05bb3c-4088-42f4-ea93-86ff6f52324c",
    "slideshow": {
     "slide_type": "slide"
    }
   },
   "outputs": [
    {
     "name": "stdout",
     "output_type": "stream",
     "text": [
      "[1, 2, 3, 'Apple', 2.4, 4, 'Banana', 9]\n",
      "3\n",
      "[1, 2, 5, 'Apple']\n"
     ]
    }
   ],
   "source": [
    "a = [1, 2, 3, \"Apple\"]\n",
    "b = [2.4, 4, \"Banana\", 9]\n",
    "print(a+b)             # Concatenation\n",
    "print(a[2])           # Indexing\n",
    "a[2] = 5             # Modifying\n",
    "print(a)"
   ]
  },
  {
   "cell_type": "markdown",
   "metadata": {
    "colab_type": "text",
    "id": "rnpqLzSOjmSj",
    "slideshow": {
     "slide_type": "slide"
    }
   },
   "source": [
    "# Dictionaries\n",
    "How to add quantities to your list:\n",
    "1. Milk: 1 litre\n",
    "2. Banana: 12\n",
    "3. Carrot: 5"
   ]
  },
  {
   "cell_type": "code",
   "execution_count": 0,
   "metadata": {
    "colab": {
     "base_uri": "https://localhost:8080/",
     "height": 52
    },
    "colab_type": "code",
    "executionInfo": {
     "elapsed": 1951,
     "status": "ok",
     "timestamp": 1560233217025,
     "user": {
      "displayName": "sachin kumar sahoo",
      "photoUrl": "https://lh3.googleusercontent.com/-d5Na2Cmv7Us/AAAAAAAAAAI/AAAAAAAAAbE/BuiMQpBwiKA/s64/photo.jpg",
      "userId": "04645023824496771729"
     },
     "user_tz": -330
    },
    "id": "NHCa11nFjmSk",
    "outputId": "bfdde514-9ff7-47e4-9c26-473dc64a9f64",
    "slideshow": {
     "slide_type": "slide"
    }
   },
   "outputs": [
    {
     "name": "stdout",
     "output_type": "stream",
     "text": [
      "{'Milk': '1 litre', 'Banana': 12, 'Carrot': 5}\n",
      "3\n"
     ]
    }
   ],
   "source": [
    "a = {\"Milk\":\"1 litre\", \"Banana\":12, \"Carrot\":5} # key-value pair\n",
    "print(a)\n",
    "print(len(a))"
   ]
  },
  {
   "cell_type": "markdown",
   "metadata": {
    "colab_type": "text",
    "id": "vZj04HjSjmSr",
    "slideshow": {
     "slide_type": "slide"
    }
   },
   "source": [
    "**Indexing:** What is the quantity of Carrot?"
   ]
  },
  {
   "cell_type": "code",
   "execution_count": 0,
   "metadata": {
    "colab": {
     "base_uri": "https://localhost:8080/",
     "height": 34
    },
    "colab_type": "code",
    "executionInfo": {
     "elapsed": 1932,
     "status": "ok",
     "timestamp": 1560233217027,
     "user": {
      "displayName": "sachin kumar sahoo",
      "photoUrl": "https://lh3.googleusercontent.com/-d5Na2Cmv7Us/AAAAAAAAAAI/AAAAAAAAAbE/BuiMQpBwiKA/s64/photo.jpg",
      "userId": "04645023824496771729"
     },
     "user_tz": -330
    },
    "id": "o89nuBqMjmSs",
    "outputId": "6bd0a0fa-e211-406f-fb68-d5e6936689f2",
    "slideshow": {
     "slide_type": "slide"
    }
   },
   "outputs": [
    {
     "name": "stdout",
     "output_type": "stream",
     "text": [
      "5\n"
     ]
    }
   ],
   "source": [
    "print(a[\"Carrot\"]) # print(a[2]) will be an error"
   ]
  },
  {
   "cell_type": "markdown",
   "metadata": {
    "colab_type": "text",
    "id": "HUuogRHwjmSy",
    "slideshow": {
     "slide_type": "slide"
    }
   },
   "source": [
    "**Modification:** Please change this quantity to 8"
   ]
  },
  {
   "cell_type": "code",
   "execution_count": 0,
   "metadata": {
    "colab": {
     "base_uri": "https://localhost:8080/",
     "height": 34
    },
    "colab_type": "code",
    "executionInfo": {
     "elapsed": 1903,
     "status": "ok",
     "timestamp": 1560233217030,
     "user": {
      "displayName": "sachin kumar sahoo",
      "photoUrl": "https://lh3.googleusercontent.com/-d5Na2Cmv7Us/AAAAAAAAAAI/AAAAAAAAAbE/BuiMQpBwiKA/s64/photo.jpg",
      "userId": "04645023824496771729"
     },
     "user_tz": -330
    },
    "id": "BTLRyql-jmS1",
    "outputId": "836eb2ce-979a-41c3-da24-e7bfb0db6854",
    "slideshow": {
     "slide_type": "slide"
    }
   },
   "outputs": [
    {
     "name": "stdout",
     "output_type": "stream",
     "text": [
      "{'Milk': '1 litre', 'Banana': 12, 'Carrot': 8}\n"
     ]
    }
   ],
   "source": [
    "a[\"Carrot\"] = 8\n",
    "print(a)"
   ]
  },
  {
   "cell_type": "markdown",
   "metadata": {
    "colab_type": "text",
    "id": "gwOPyJh1jmS7",
    "slideshow": {
     "slide_type": "slide"
    }
   },
   "source": [
    "**Append:** Add 1kg apples"
   ]
  },
  {
   "cell_type": "code",
   "execution_count": 0,
   "metadata": {
    "colab": {
     "base_uri": "https://localhost:8080/",
     "height": 34
    },
    "colab_type": "code",
    "executionInfo": {
     "elapsed": 1889,
     "status": "ok",
     "timestamp": 1560233217033,
     "user": {
      "displayName": "sachin kumar sahoo",
      "photoUrl": "https://lh3.googleusercontent.com/-d5Na2Cmv7Us/AAAAAAAAAAI/AAAAAAAAAbE/BuiMQpBwiKA/s64/photo.jpg",
      "userId": "04645023824496771729"
     },
     "user_tz": -330
    },
    "id": "OY67fk8PjmS-",
    "outputId": "45f2687c-27b6-42f2-953e-28420bfc4946",
    "slideshow": {
     "slide_type": "slide"
    }
   },
   "outputs": [
    {
     "name": "stdout",
     "output_type": "stream",
     "text": [
      "{'Milk': '1 litre', 'Banana': 12, 'Carrot': 8, 'Apple': '1kg'}\n"
     ]
    }
   ],
   "source": [
    "a[\"Apple\"] = \"1kg\"\n",
    "print(a)"
   ]
  },
  {
   "cell_type": "code",
   "execution_count": 0,
   "metadata": {
    "colab": {
     "base_uri": "https://localhost:8080/",
     "height": 52
    },
    "colab_type": "code",
    "executionInfo": {
     "elapsed": 941,
     "status": "ok",
     "timestamp": 1560233247860,
     "user": {
      "displayName": "sachin kumar sahoo",
      "photoUrl": "https://lh3.googleusercontent.com/-d5Na2Cmv7Us/AAAAAAAAAAI/AAAAAAAAAbE/BuiMQpBwiKA/s64/photo.jpg",
      "userId": "04645023824496771729"
     },
     "user_tz": -330
    },
    "id": "r-o7UA4bjmTF",
    "outputId": "2474edd7-ac29-4302-9603-190b7a11f440",
    "slideshow": {
     "slide_type": "slide"
    }
   },
   "outputs": [
    {
     "name": "stdout",
     "output_type": "stream",
     "text": [
      "<class 'dict_keys'>\n",
      "dict_values(['1 litre', 12, 8, '1kg'])\n"
     ]
    }
   ],
   "source": [
    "print(type(a.keys()))\n",
    "print(a.values())"
   ]
  },
  {
   "cell_type": "markdown",
   "metadata": {
    "colab_type": "text",
    "id": "OdzhtGJNjmTL",
    "slideshow": {
     "slide_type": "slide"
    }
   },
   "source": [
    "# Conditionals\n",
    "if, elif, else"
   ]
  },
  {
   "cell_type": "code",
   "execution_count": 0,
   "metadata": {
    "colab": {
     "base_uri": "https://localhost:8080/",
     "height": 35
    },
    "colab_type": "code",
    "executionInfo": {
     "elapsed": 2839,
     "status": "ok",
     "timestamp": 1560233359281,
     "user": {
      "displayName": "keshav verma",
      "photoUrl": "https://lh3.googleusercontent.com/-mRfDjH_R04Q/AAAAAAAAAAI/AAAAAAAAELk/3lUbAW2il14/s64/photo.jpg",
      "userId": "00938285315690918070"
     },
     "user_tz": -330
    },
    "id": "xQe-SECDjmTM",
    "outputId": "e3c3521b-fa6d-4e0f-a58f-8979ca790abd",
    "slideshow": {
     "slide_type": "slide"
    }
   },
   "outputs": [
    {
     "name": "stdout",
     "output_type": "stream",
     "text": [
      "Negative\n"
     ]
    }
   ],
   "source": [
    "i = -3\n",
    "if i<0:\n",
    "    print(\"Negative\")\n",
    "elif i>0:\n",
    "    print(\"Positive\")\n",
    "else:\n",
    "    print(\"Zero\")"
   ]
  },
  {
   "cell_type": "markdown",
   "metadata": {
    "colab_type": "text",
    "id": "Vk_lwFXBjmTh",
    "slideshow": {
     "slide_type": "slide"
    }
   },
   "source": [
    "In the shopping list, add 5 bananas"
   ]
  },
  {
   "cell_type": "code",
   "execution_count": 0,
   "metadata": {
    "colab": {
     "base_uri": "https://localhost:8080/",
     "height": 35
    },
    "colab_type": "code",
    "executionInfo": {
     "elapsed": 1232,
     "status": "ok",
     "timestamp": 1560233723072,
     "user": {
      "displayName": "keshav verma",
      "photoUrl": "https://lh3.googleusercontent.com/-mRfDjH_R04Q/AAAAAAAAAAI/AAAAAAAAELk/3lUbAW2il14/s64/photo.jpg",
      "userId": "00938285315690918070"
     },
     "user_tz": -330
    },
    "id": "Hvgeu0chjmTj",
    "outputId": "e29b4f65-629a-4678-92aa-21c4c954f218",
    "slideshow": {
     "slide_type": "slide"
    }
   },
   "outputs": [
    {
     "name": "stdout",
     "output_type": "stream",
     "text": [
      "{'Milk': '1 litre', 'Carrot': 5, 'Banana': 5}\n"
     ]
    }
   ],
   "source": [
    "a = {\"Milk\":\"1 litre\", \"Carrot\":5} \n",
    "# What if the bananas weren't there\n",
    "\n",
    "if \"Banana\" in a:\n",
    "    a[\"Banana\"] = a[\"Banana\"] + 5\n",
    "else:\n",
    "    a[\"Banana\"] = 5\n",
    "print(a)"
   ]
  },
  {
   "cell_type": "markdown",
   "metadata": {
    "colab_type": "text",
    "id": "A0ZdXVD4jmTs",
    "slideshow": {
     "slide_type": "slide"
    }
   },
   "source": [
    "# Loops\n",
    "## For loop"
   ]
  },
  {
   "cell_type": "code",
   "execution_count": 0,
   "metadata": {
    "colab": {
     "base_uri": "https://localhost:8080/",
     "height": 105
    },
    "colab_type": "code",
    "executionInfo": {
     "elapsed": 1021,
     "status": "ok",
     "timestamp": 1560233795521,
     "user": {
      "displayName": "keshav verma",
      "photoUrl": "https://lh3.googleusercontent.com/-mRfDjH_R04Q/AAAAAAAAAAI/AAAAAAAAELk/3lUbAW2il14/s64/photo.jpg",
      "userId": "00938285315690918070"
     },
     "user_tz": -330
    },
    "id": "pYRZonNpjmTt",
    "outputId": "183ae713-9abf-4efe-fad1-4af69b96c62e",
    "slideshow": {
     "slide_type": "slide"
    }
   },
   "outputs": [
    {
     "name": "stdout",
     "output_type": "stream",
     "text": [
      "0\n",
      "1\n",
      "2\n",
      "3\n",
      "4\n"
     ]
    }
   ],
   "source": [
    "for i in range(5):\n",
    "    print(i)"
   ]
  },
  {
   "cell_type": "markdown",
   "metadata": {
    "colab_type": "text",
    "id": "vMNZp46ijmTy",
    "slideshow": {
     "slide_type": "slide"
    }
   },
   "source": [
    "Print all the items in the list along with their quantities"
   ]
  },
  {
   "cell_type": "code",
   "execution_count": 0,
   "metadata": {
    "colab": {
     "base_uri": "https://localhost:8080/",
     "height": 70
    },
    "colab_type": "code",
    "executionInfo": {
     "elapsed": 1369,
     "status": "ok",
     "timestamp": 1560233855581,
     "user": {
      "displayName": "keshav verma",
      "photoUrl": "https://lh3.googleusercontent.com/-mRfDjH_R04Q/AAAAAAAAAAI/AAAAAAAAELk/3lUbAW2il14/s64/photo.jpg",
      "userId": "00938285315690918070"
     },
     "user_tz": -330
    },
    "id": "Wv79x3FRjmTz",
    "outputId": "600a57e9-cb08-4098-a61e-c0db7514f13e",
    "slideshow": {
     "slide_type": "slide"
    }
   },
   "outputs": [
    {
     "name": "stdout",
     "output_type": "stream",
     "text": [
      "Milk - 1 litre\n",
      "Carrot - 5\n",
      "Banana - 5\n"
     ]
    }
   ],
   "source": [
    "for key in a:\n",
    "    print(key, \"-\", a[key])"
   ]
  },
  {
   "cell_type": "code",
   "execution_count": 0,
   "metadata": {
    "colab": {
     "base_uri": "https://localhost:8080/",
     "height": 105
    },
    "colab_type": "code",
    "executionInfo": {
     "elapsed": 1282,
     "status": "ok",
     "timestamp": 1560234084868,
     "user": {
      "displayName": "keshav verma",
      "photoUrl": "https://lh3.googleusercontent.com/-mRfDjH_R04Q/AAAAAAAAAAI/AAAAAAAAELk/3lUbAW2il14/s64/photo.jpg",
      "userId": "00938285315690918070"
     },
     "user_tz": -330
    },
    "id": "fwxPxheIMYON",
    "outputId": "8abd1e44-6ec2-4467-9c63-fd216de5221e"
   },
   "outputs": [
    {
     "name": "stdout",
     "output_type": "stream",
     "text": [
      "2\n",
      "3\n",
      "4\n",
      "5\n",
      "6\n"
     ]
    }
   ],
   "source": [
    "i = 1\n",
    "for k in range(5):\n",
    "  i += 1\n",
    "  print(i)"
   ]
  },
  {
   "cell_type": "markdown",
   "metadata": {
    "colab_type": "text",
    "id": "Wtp5yMipjmT6",
    "slideshow": {
     "slide_type": "slide"
    }
   },
   "source": [
    "## While loop"
   ]
  },
  {
   "cell_type": "code",
   "execution_count": 43,
   "metadata": {
    "colab": {
     "base_uri": "https://localhost:8080/",
     "height": 70
    },
    "colab_type": "code",
    "executionInfo": {
     "elapsed": 1041,
     "status": "ok",
     "timestamp": 1560234837296,
     "user": {
      "displayName": "keshav verma",
      "photoUrl": "https://lh3.googleusercontent.com/-mRfDjH_R04Q/AAAAAAAAAAI/AAAAAAAAELk/3lUbAW2il14/s64/photo.jpg",
      "userId": "00938285315690918070"
     },
     "user_tz": -330
    },
    "id": "fxjuZ0ojjmT9",
    "outputId": "3e3732b3-3e03-4ee7-c3ba-68e6986cc176",
    "slideshow": {
     "slide_type": "slide"
    }
   },
   "outputs": [
    {
     "name": "stdout",
     "output_type": "stream",
     "text": [
      "0\n",
      "1\n",
      "2\n"
     ]
    }
   ],
   "source": [
    "# List all integers starting from 0, such that the sum of \n",
    "# their squares is less than 20\n",
    "i = 0\n",
    "sumOfSquares = 0\n",
    "while sumOfSquares<10:\n",
    "    print(i)\n",
    "    i = i+1\n",
    "    sumOfSquares = sumOfSquares + i*i"
   ]
  },
  {
   "cell_type": "code",
   "execution_count": 0,
   "metadata": {
    "colab": {},
    "colab_type": "code",
    "id": "F67TLT56Ngxg"
   },
   "outputs": [],
   "source": []
  }
 ],
 "metadata": {
  "colab": {
   "name": "PythonBasics1.ipynb",
   "provenance": [],
   "version": "0.3.2"
  },
  "kernelspec": {
   "display_name": "Python 3",
   "language": "python",
   "name": "python3"
  },
  "language_info": {
   "codemirror_mode": {
    "name": "ipython",
    "version": 3
   },
   "file_extension": ".py",
   "mimetype": "text/x-python",
   "name": "python",
   "nbconvert_exporter": "python",
   "pygments_lexer": "ipython3",
   "version": "3.7.3"
  }
 },
 "nbformat": 4,
 "nbformat_minor": 1
}
