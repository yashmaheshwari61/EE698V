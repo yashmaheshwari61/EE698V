{
 "cells": [
  {
   "cell_type": "markdown",
   "metadata": {
    "colab_type": "text",
    "id": "UPLGmg_U65-c",
    "slideshow": {
     "slide_type": "slide"
    }
   },
   "source": [
    "# Functions\n",
    "input $\\rightarrow\\boxed{F}\\rightarrow$ output \n",
    "\n",
    "Video: https://www.youtube.com/watch?v=KZO9W3MPf68"
   ]
  },
  {
   "cell_type": "code",
   "execution_count": 1,
   "metadata": {
    "colab": {
     "base_uri": "https://localhost:8080/",
     "height": 35
    },
    "colab_type": "code",
    "executionInfo": {
     "elapsed": 1190,
     "status": "ok",
     "timestamp": 1560235230868,
     "user": {
      "displayName": "keshav verma",
      "photoUrl": "https://lh3.googleusercontent.com/-mRfDjH_R04Q/AAAAAAAAAAI/AAAAAAAAELk/3lUbAW2il14/s64/photo.jpg",
      "userId": "00938285315690918070"
     },
     "user_tz": -330
    },
    "id": "w177XEY2QhIL",
    "outputId": "6b5e0a5b-65fc-4f47-fa7a-a1747d5a40ed",
    "slideshow": {
     "slide_type": "slide"
    }
   },
   "outputs": [],
   "source": [
    "def myprint(x):\n",
    "  print(x)\n"
   ]
  },
  {
   "cell_type": "code",
   "execution_count": 2,
   "metadata": {
    "slideshow": {
     "slide_type": "fragment"
    }
   },
   "outputs": [
    {
     "name": "stdout",
     "output_type": "stream",
     "text": [
      "2\n"
     ]
    }
   ],
   "source": [
    "x = 2\n",
    "myprint(x)"
   ]
  },
  {
   "cell_type": "code",
   "execution_count": 3,
   "metadata": {
    "colab": {},
    "colab_type": "code",
    "id": "Ni_b3BAm65-e",
    "slideshow": {
     "slide_type": "slide"
    }
   },
   "outputs": [],
   "source": [
    "def findlarger(a, b):\n",
    "    if a>b:\n",
    "        c = a\n",
    "    else:\n",
    "        c = b\n",
    "    return c"
   ]
  },
  {
   "cell_type": "code",
   "execution_count": 13,
   "metadata": {
    "colab": {
     "base_uri": "https://localhost:8080/",
     "height": 35
    },
    "colab_type": "code",
    "executionInfo": {
     "elapsed": 1035,
     "status": "ok",
     "timestamp": 1560235298239,
     "user": {
      "displayName": "keshav verma",
      "photoUrl": "https://lh3.googleusercontent.com/-mRfDjH_R04Q/AAAAAAAAAAI/AAAAAAAAELk/3lUbAW2il14/s64/photo.jpg",
      "userId": "00938285315690918070"
     },
     "user_tz": -330
    },
    "id": "OwEzwOYcM-3r",
    "outputId": "c8d24b83-4f4c-4fc9-d37a-e38214017374",
    "slideshow": {
     "slide_type": "fragment"
    }
   },
   "outputs": [
    {
     "data": {
      "text/plain": [
       "14"
      ]
     },
     "execution_count": 13,
     "metadata": {},
     "output_type": "execute_result"
    }
   ],
   "source": [
    "findlarger(14,5)"
   ]
  },
  {
   "cell_type": "code",
   "execution_count": 5,
   "metadata": {
    "colab": {
     "base_uri": "https://localhost:8080/",
     "height": 35
    },
    "colab_type": "code",
    "executionInfo": {
     "elapsed": 1175,
     "status": "ok",
     "timestamp": 1560235896407,
     "user": {
      "displayName": "keshav verma",
      "photoUrl": "https://lh3.googleusercontent.com/-mRfDjH_R04Q/AAAAAAAAAAI/AAAAAAAAELk/3lUbAW2il14/s64/photo.jpg",
      "userId": "00938285315690918070"
     },
     "user_tz": -330
    },
    "id": "iAJ0iUmEPXET",
    "outputId": "ab62fd87-4bc8-42ff-98c6-e7cdd9c634d0",
    "slideshow": {
     "slide_type": "slide"
    }
   },
   "outputs": [],
   "source": [
    "# A simple Python function to check \n",
    "# whether x is even or odd \n",
    "def evenOdd( x ): \n",
    "    if (x % 2 == 0): \n",
    "        print (\"even\")\n",
    "    else: \n",
    "        print (\"odd\")\n",
    "    x = x+2\n",
    "    return x"
   ]
  },
  {
   "cell_type": "code",
   "execution_count": 16,
   "metadata": {
    "slideshow": {
     "slide_type": "fragment"
    }
   },
   "outputs": [
    {
     "name": "stdout",
     "output_type": "stream",
     "text": [
      "odd\n",
      "45\n"
     ]
    }
   ],
   "source": [
    "x = 45\n",
    "evenOdd(x)\n",
    "print(x) # Call by value"
   ]
  },
  {
   "cell_type": "code",
   "execution_count": 7,
   "metadata": {
    "colab": {
     "base_uri": "https://localhost:8080/",
     "height": 35
    },
    "colab_type": "code",
    "executionInfo": {
     "elapsed": 950,
     "status": "ok",
     "timestamp": 1560235953303,
     "user": {
      "displayName": "keshav verma",
      "photoUrl": "https://lh3.googleusercontent.com/-mRfDjH_R04Q/AAAAAAAAAAI/AAAAAAAAELk/3lUbAW2il14/s64/photo.jpg",
      "userId": "00938285315690918070"
     },
     "user_tz": -330
    },
    "id": "fux0v-mv65-j",
    "outputId": "377cde10-9a94-4bba-8ac2-f5875fe08d2b",
    "slideshow": {
     "slide_type": "slide"
    }
   },
   "outputs": [
    {
     "name": "stdout",
     "output_type": "stream",
     "text": [
      "15\n"
     ]
    }
   ],
   "source": [
    "a = 15\n",
    "b = 5.0\n",
    "c = findlarger(a,b)\n",
    "print(c)"
   ]
  },
  {
   "cell_type": "markdown",
   "metadata": {
    "colab_type": "text",
    "id": "PIGNTg2h65-q",
    "slideshow": {
     "slide_type": "slide"
    }
   },
   "source": [
    "**Ex.** Add an item in the dictionary if it does not exist, otherwise increment"
   ]
  },
  {
   "cell_type": "code",
   "execution_count": 8,
   "metadata": {
    "colab": {},
    "colab_type": "code",
    "id": "JAxgLJ2k65-r",
    "slideshow": {
     "slide_type": "fragment"
    }
   },
   "outputs": [],
   "source": [
    "def addItem(a, key, val=1):\n",
    "    if key in a:\n",
    "        a[key] = a[key] + val\n",
    "    else:\n",
    "        a[key] = val\n",
    "    print(a)    \n",
    "    return a"
   ]
  },
  {
   "cell_type": "code",
   "execution_count": 15,
   "metadata": {
    "colab": {
     "base_uri": "https://localhost:8080/",
     "height": 87
    },
    "colab_type": "code",
    "executionInfo": {
     "elapsed": 1137,
     "status": "ok",
     "timestamp": 1560236532170,
     "user": {
      "displayName": "keshav verma",
      "photoUrl": "https://lh3.googleusercontent.com/-mRfDjH_R04Q/AAAAAAAAAAI/AAAAAAAAELk/3lUbAW2il14/s64/photo.jpg",
      "userId": "00938285315690918070"
     },
     "user_tz": -330
    },
    "id": "lgnaYjeu65-u",
    "outputId": "683020d5-8439-41db-eaef-c4206206520c",
    "slideshow": {
     "slide_type": "slide"
    }
   },
   "outputs": [
    {
     "name": "stdout",
     "output_type": "stream",
     "text": [
      "{'Apple': 8, 'Carrot': 5, 'Banana': 5}\n",
      "{'Apple': 8, 'Carrot': 5, 'Banana': 5, 'Guava': 3}\n",
      "{'Apple': 8, 'Carrot': 5, 'Banana': 6, 'Guava': 3}\n"
     ]
    },
    {
     "data": {
      "text/plain": [
       "{'Apple': 8, 'Banana': 6, 'Carrot': 5, 'Guava': 3}"
      ]
     },
     "execution_count": 15,
     "metadata": {},
     "output_type": "execute_result"
    }
   ],
   "source": [
    "a = {\"Apple\":8,  \"Carrot\":5} \n",
    "addItem(a, \"Banana\", 5)\n",
    "addItem(a, \"Guava\", 3)\n",
    "addItem(a, \"Banana\") # call by reference"
   ]
  },
  {
   "cell_type": "markdown",
   "metadata": {
    "colab_type": "text",
    "id": "kqLr85wk65-0",
    "slideshow": {
     "slide_type": "slide"
    }
   },
   "source": [
    "# Classes\n",
    "A structure containing variables and functions.\n",
    "\n",
    "**Ex.** Create a Shopping List class that can add and subtract items and their quantities"
   ]
  },
  {
   "cell_type": "code",
   "execution_count": 10,
   "metadata": {
    "colab": {},
    "colab_type": "code",
    "id": "GgGJKPdc65-1",
    "slideshow": {
     "slide_type": "slide"
    }
   },
   "outputs": [],
   "source": [
    "class ShoppingList:\n",
    "    def __init__(self): \n",
    "      self.listdict = {} \n",
    "    \n",
    "    def addItem(self, key, val):\n",
    "        if key in self.listdict: \n",
    "            self.listdict[key] = self.listdict[key] + val\n",
    "        else:\n",
    "            self.listdict[key] = val\n",
    "    def subtractItem(self, key, val):\n",
    "        if key in self.listdict:\n",
    "            self.listdict[key] = self.listdict[key] - val\n",
    "    def removeItem(self, key):\n",
    "        if key in self.listdict:\n",
    "            del(self.listdict[key])\n",
    "    def printList(self):\n",
    "        print(self.listdict)"
   ]
  },
  {
   "cell_type": "code",
   "execution_count": 17,
   "metadata": {
    "colab": {
     "base_uri": "https://localhost:8080/",
     "height": 69
    },
    "colab_type": "code",
    "executionInfo": {
     "elapsed": 1297,
     "status": "ok",
     "timestamp": 1560238340937,
     "user": {
      "displayName": "keshav verma",
      "photoUrl": "https://lh3.googleusercontent.com/-mRfDjH_R04Q/AAAAAAAAAAI/AAAAAAAAELk/3lUbAW2il14/s64/photo.jpg",
      "userId": "00938285315690918070"
     },
     "user_tz": -330
    },
    "id": "3U77a0BC65-5",
    "outputId": "80bf979a-885e-4d7b-cd88-1000e533bc77",
    "slideshow": {
     "slide_type": "slide"
    }
   },
   "outputs": [
    {
     "name": "stdout",
     "output_type": "stream",
     "text": [
      "{'Banana': 12, 'Apple': 6}\n",
      "{'Banana': 7, 'Apple': 6}\n",
      "{'Banana': 7}\n",
      "{'notebook': 12}\n"
     ]
    }
   ],
   "source": [
    "sl1 = ShoppingList()\n",
    "sl1.addItem(\"Banana\", 12) \n",
    "sl1.addItem(\"Apple\", 6)\n",
    "sl1.printList()\n",
    "sl1.subtractItem(\"Banana\", 5)\n",
    "sl1.printList()\n",
    "sl1.removeItem(\"Apple\")\n",
    "sl1.printList()\n",
    "\n",
    "sl2 = ShoppingList()\n",
    "sl2.addItem(\"notebook\",12)\n",
    "sl2.printList()\n",
    "\n",
    "# sl1 and sl2 are two instances of the class ShoppingList "
   ]
  }
 ],
 "metadata": {
  "celltoolbar": "Slideshow",
  "colab": {
   "name": "PythonBasics2.ipynb",
   "provenance": [],
   "version": "0.3.2"
  },
  "kernelspec": {
   "display_name": "Python 3",
   "language": "python",
   "name": "python3"
  },
  "language_info": {
   "codemirror_mode": {
    "name": "ipython",
    "version": 3
   },
   "file_extension": ".py",
   "mimetype": "text/x-python",
   "name": "python",
   "nbconvert_exporter": "python",
   "pygments_lexer": "ipython3",
   "version": "3.7.3"
  }
 },
 "nbformat": 4,
 "nbformat_minor": 1
}
