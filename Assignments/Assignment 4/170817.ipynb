{
  "nbformat": 4,
  "nbformat_minor": 0,
  "metadata": {
    "colab": {
      "name": "170817.ipynb",
      "provenance": [],
      "collapsed_sections": []
    },
    "kernelspec": {
      "display_name": "Python 3",
      "language": "python",
      "name": "python3"
    },
    "language_info": {
      "codemirror_mode": {
        "name": "ipython",
        "version": 3
      },
      "file_extension": ".py",
      "mimetype": "text/x-python",
      "name": "python",
      "nbconvert_exporter": "python",
      "pygments_lexer": "ipython3",
      "version": "3.7.3"
    }
  },
  "cells": [
    {
      "cell_type": "code",
      "metadata": {
        "colab_type": "code",
        "id": "jLDisQ6gAaMQ",
        "colab": {}
      },
      "source": [
        "import numpy as np\n",
        "import matplotlib.pyplot as plt\n",
        "import sklearn\n",
        "from sklearn.datasets import load_iris"
      ],
      "execution_count": 0,
      "outputs": []
    },
    {
      "cell_type": "code",
      "metadata": {
        "colab_type": "code",
        "id": "pwyZu2ibAhO1",
        "colab": {}
      },
      "source": [
        "def loadIrisData():\n",
        "    iris = load_iris()\n",
        "    X=iris['data']\n",
        "    t=iris['target']\n",
        "    return X, t"
      ],
      "execution_count": 0,
      "outputs": []
    },
    {
      "cell_type": "code",
      "metadata": {
        "colab_type": "code",
        "id": "48_5__HzBks_",
        "colab": {}
      },
      "source": [
        "def one_hot_encoding(t_indices, N):\n",
        "    '''\n",
        "    Inputs:\n",
        "        t_indices: list of indices\n",
        "        N: total no. of classes\n",
        "    '''\n",
        "    assert N>max(t_indices), (N, max(t_indices))\n",
        "\n",
        "    ### WRITE YOUR CODE HERE - 2 MARKS\n",
        "    t = []\n",
        "    for i in range(len(t_indices)):\n",
        "        temp = [0.0 for j in range(N)]\n",
        "        temp[t_indices[i]] = 1.0\n",
        "        t.append(np.array(temp))\n",
        "    t_1hot = np.array(t)\n",
        "    return t_1hot"
      ],
      "execution_count": 0,
      "outputs": []
    },
    {
      "cell_type": "code",
      "metadata": {
        "colab_type": "code",
        "id": "m2DsnXa89lIk",
        "scrolled": true,
        "outputId": "24fb43aa-9629-47da-8d54-e9ae872aae0e",
        "colab": {
          "base_uri": "https://localhost:8080/",
          "height": 35
        }
      },
      "source": [
        "def test_one_hot_encoding():\n",
        "    t_1hot = one_hot_encoding([0,2], 3)\n",
        "    t_1hotTrue = np.array([[1.,0.,0.], [0.,0.,1.]])\n",
        "    assert np.all(np.isclose( t_1hot, t_1hotTrue ))\n",
        "    print('Test passed', '\\U0001F44D')\n",
        "if __name__==\"__main__\":\n",
        "    test_one_hot_encoding()"
      ],
      "execution_count": 4,
      "outputs": [
        {
          "output_type": "stream",
          "text": [
            "Test passed 👍\n"
          ],
          "name": "stdout"
        }
      ]
    },
    {
      "cell_type": "code",
      "metadata": {
        "colab_type": "code",
        "id": "VXxxA2YkB_I8",
        "colab": {}
      },
      "source": [
        "def splitData(X,t,testFraction=0.2):\n",
        "    \"\"\"\n",
        "    Use numpy functions only\n",
        "    Inputs:\n",
        "        X: np array of shape (Nsamples, dim)\n",
        "        t: np array of len Nsamples; can be one hot vectors or labels\n",
        "        testFraction: (float) Nsamples_test = testFraction * Nsamples\n",
        "    \"\"\"\n",
        "\n",
        "    ### WRITE YOUR CODE HERE - 2 MARKS\n",
        "    X_train = X\n",
        "    t_train = t\n",
        "    test = np.int_(testFraction*(np.size(X,0)))\n",
        "    ntest = np.sort(np.array(np.random.choice(np.size(X,0)-1, test, replace=False)))\n",
        "    X_test = []\n",
        "    t_test = []\n",
        "    for i in range(len(ntest)):\n",
        "        X_test.append(X_train[ntest[i]-i])\n",
        "        t_test.append(t_train[ntest[i]-i])\n",
        "        t_train = np.delete(t_train,ntest[i]-i,0)\n",
        "        X_train = np.delete(X_train,ntest[i]-i,0)\n",
        "    t_test = np.array(t_test)\n",
        "    X_test = np.array(X_test)\n",
        "    return X_train, t_train, X_test, t_test"
      ],
      "execution_count": 0,
      "outputs": []
    },
    {
      "cell_type": "code",
      "metadata": {
        "id": "gjS3L2iVaCTL",
        "colab_type": "code",
        "outputId": "e4d52ec5-35dc-4e32-f259-1f3427975b36",
        "colab": {
          "base_uri": "https://localhost:8080/",
          "height": 35
        }
      },
      "source": [
        "def test_splitData():\n",
        "    X = np.random.random((5,2))\n",
        "    t1hot = one_hot_encoding([1,0,2,1,2],3)\n",
        "    X_train, t1hot_train, X_test, t1hot_test = splitData(X,t1hot,.2)\n",
        "    assert X_train.shape==(4,2), [\"X_train.shape\", X_train.shape]\n",
        "    assert X_test.shape==(1,2), [\"X_test.shape\", X_test.shape]\n",
        "    print('Test passed', '\\U0001F44D')    \n",
        "if __name__==\"__main__\":\n",
        "    test_splitData()"
      ],
      "execution_count": 6,
      "outputs": [
        {
          "output_type": "stream",
          "text": [
            "Test passed 👍\n"
          ],
          "name": "stdout"
        }
      ]
    },
    {
      "cell_type": "code",
      "metadata": {
        "colab_type": "code",
        "id": "OK2lZ6ZpCjAg",
        "colab": {}
      },
      "source": [
        "### Normalize data to be of zero mean and unit variance\n",
        "def normalizeX(X_train, X_test):\n",
        "    '''\n",
        "    Inputs:\n",
        "        X_train: np array 2d\n",
        "        X_test: np array 2d\n",
        "    Outputs:\n",
        "        Normalized np arrays 2d\n",
        "    '''\n",
        "\n",
        "    ### WRITE YOUR CODE HERE - 2 MARKS\n",
        "    X_train_normalized = (X_train - np.mean(X_train, axis = 0))/(np.std(X_train,axis = 0))\n",
        "    X_test_normalized = (X_test - np.mean(X_train, axis = 0))/(np.std(X_train,axis = 0))\n",
        "    return X_train_normalized, X_test_normalized"
      ],
      "execution_count": 0,
      "outputs": []
    },
    {
      "cell_type": "code",
      "metadata": {
        "id": "yS27HMb0aCTY",
        "colab_type": "code",
        "outputId": "7a0ebaae-bb4c-47b5-c550-1da01b79f024",
        "colab": {
          "base_uri": "https://localhost:8080/",
          "height": 35
        }
      },
      "source": [
        "def test_normalizeX():\n",
        "    X_train = np.array([[1,1,0],[2,2,1]])\n",
        "    X_test = np.array([[1,1,0],[3,3,2]])\n",
        "    X_train_normalized, X_test_normalized = normalizeX(X_train, X_test)\n",
        "    a = np.array([[-1.,-1.,-1.], [ 1., 1., 1.]])\n",
        "    b = np.array([[-1.,-1.,-1.], [ 3., 3., 3.]])\n",
        "    assert np.all(np.isclose( X_train_normalized, a )), a\n",
        "    assert np.all(np.isclose( X_test_normalized, b )), b\n",
        "    print('Test passed', '\\U0001F44D')    \n",
        "if __name__==\"__main__\":\n",
        "    test_normalizeX()"
      ],
      "execution_count": 8,
      "outputs": [
        {
          "output_type": "stream",
          "text": [
            "Test passed 👍\n"
          ],
          "name": "stdout"
        }
      ]
    },
    {
      "cell_type": "code",
      "metadata": {
        "colab_type": "code",
        "id": "AJ_OSEoQLEuc",
        "colab": {}
      },
      "source": [
        "def sigmoid(x):\n",
        "    '''\n",
        "    Input:\n",
        "        x: numpy array of any shape\n",
        "    Output:\n",
        "        y: numpy array of same shape as x\n",
        "    '''\n",
        "\n",
        "    ### WRITE YOUR CODE HERE - 1 MARKS\n",
        "    y = 1/(1 + np.exp(-x))\n",
        "    return y"
      ],
      "execution_count": 0,
      "outputs": []
    },
    {
      "cell_type": "code",
      "metadata": {
        "id": "6PKGa-7ZaCTm",
        "colab_type": "code",
        "outputId": "89690379-8585-4857-e127-694a7eb0c26e",
        "colab": {
          "base_uri": "https://localhost:8080/",
          "height": 35
        }
      },
      "source": [
        "def test_sigmoid():\n",
        "    x = np.array([np.log(4),np.log(0.25),0])\n",
        "    y = sigmoid(x)\n",
        "    assert np.all(np.isclose( y, np.array([0.8, 0.2, 0.5]) )), y\n",
        "    print('Test passed', '\\U0001F44D')    \n",
        "if __name__==\"__main__\":\n",
        "    test_sigmoid()"
      ],
      "execution_count": 10,
      "outputs": [
        {
          "output_type": "stream",
          "text": [
            "Test passed 👍\n"
          ],
          "name": "stdout"
        }
      ]
    },
    {
      "cell_type": "code",
      "metadata": {
        "id": "IaTu1opgaCTv",
        "colab_type": "code",
        "colab": {}
      },
      "source": [
        "def softmax(x):\n",
        "    '''\n",
        "    Input:\n",
        "        x: numpy array of any shape\n",
        "    Output:\n",
        "        y: numpy array of same shape as x\n",
        "    '''\n",
        "\n",
        "    ### WRITE YOUR CODE HERE - 1 MARKS\n",
        "    y = (np.exp(x))/(np.sum(np.exp(x)))\n",
        "    return y"
      ],
      "execution_count": 0,
      "outputs": []
    },
    {
      "cell_type": "code",
      "metadata": {
        "id": "zjaepW2CaCT3",
        "colab_type": "code",
        "outputId": "b5aceab0-ad39-4522-abfc-6f9c6293991a",
        "colab": {
          "base_uri": "https://localhost:8080/",
          "height": 35
        }
      },
      "source": [
        "def test_softmax():\n",
        "    x = np.array([np.log(2),np.log(7),0])\n",
        "    y = softmax(x)\n",
        "    assert np.all(np.isclose( y, np.array([0.2, 0.7, 0.1]) )), y\n",
        "    print('Test passed', '\\U0001F44D')    \n",
        "if __name__==\"__main__\":\n",
        "    test_softmax()"
      ],
      "execution_count": 12,
      "outputs": [
        {
          "output_type": "stream",
          "text": [
            "Test passed 👍\n"
          ],
          "name": "stdout"
        }
      ]
    },
    {
      "cell_type": "code",
      "metadata": {
        "colab_type": "code",
        "id": "Iwi4QwxlOAOR",
        "colab": {}
      },
      "source": [
        "def sigmoid_derivative(x):\n",
        "    '''\n",
        "    Input:\n",
        "        x: numpy array of any shape; it is sigmoid layer's output\n",
        "    Output:\n",
        "        y: numpy array of same shape as x; it is the derivative of sigmoid\n",
        "    '''\n",
        "\n",
        "    ### WRITE YOUR CODE HERE - 1 MARKS\n",
        "    y = (x)*(1-x)\n",
        "    return y"
      ],
      "execution_count": 0,
      "outputs": []
    },
    {
      "cell_type": "code",
      "metadata": {
        "id": "t5ORp5U-aCUI",
        "colab_type": "code",
        "colab": {}
      },
      "source": [
        "class NeuralNetwork:\n",
        "    def __init__(self, ni, nh, no):\n",
        "        '''   \n",
        "        Input:\n",
        "            ni: int, size of input layer\n",
        "            nh: int, size of hidden layer\n",
        "            no: int, size of output layer\n",
        "        Action:\n",
        "            Creates instance variables\n",
        "        NOTE: We do not use bias explicitly here. Input x can have the first element 1 to have a bias term.\n",
        "        '''\n",
        "        self.ni = ni\n",
        "        self.nh = nh\n",
        "        self.no = no\n",
        "        self.weights1 = []\n",
        "        self.weights2 = []\n",
        "        return\n",
        "    \n",
        "    def init_weights(self):\n",
        "        '''\n",
        "        Action:\n",
        "            Randomly initialize weights1 and weights2 with proper size random np arrays\n",
        "        '''\n",
        "\n",
        "        ### WRITE YOUR CODE HERE - 2 MARKS\n",
        "        self.weights1 = np.random.rand(self.nh,self.ni+1)\n",
        "        self.weights2 = np.random.rand(self.no,self.nh+1)\n",
        "    \n",
        "    def predict(self, x):\n",
        "        x = np.insert(x,0,1,axis=0) # inserts a row of 1s. This is for the bias\n",
        "        h1 = self.weights1.dot(x)\n",
        "        v1 = sigmoid(h1)\n",
        "        v1 = np.insert(v1,0,1,axis=0) # inserts a row of 1s. This is for the bias\n",
        "        h2 = self.weights2.dot(v1)\n",
        "        v2 = softmax(h2)\n",
        "        return v2\n",
        "\n",
        "    def backprop(self,x,y,eta):\n",
        "        '''\n",
        "        # application of the chain rule to find derivative of the categorical cross entropy loss function with respect to weights2 and weights1\n",
        "        Input:\n",
        "            x: numpy array of shape (ni,1)\n",
        "            y: numpy array of shape (no,1)\n",
        "            eta: learning rate\n",
        "        Action:\n",
        "            # Finding the derivatives\n",
        "            del_weights2: np array that stores the derivative of the loss function with respect to weights2\n",
        "            del_weights1: np array that stores the derivative of the loss function with respect to weights1\n",
        "\n",
        "            # Update the weights with the derivative of the categorical cross entropy loss function\n",
        "              weights1 += eta*del_weights1\n",
        "              weights2 += eta*del_weights2\n",
        "        ''' \n",
        "\n",
        "        ### WRITE YOUR CODE HERE - 5 MARKS\n",
        "        x = np.insert(x,0,1,axis=0) # inserts a row of 1s. This is for the bias\n",
        "        x = np.reshape(x,(np.size(x),1))\n",
        "        h1 = self.weights1.dot(x)\n",
        "        v1i = sigmoid(h1)\n",
        "        v1i = np.reshape(v1i,(np.size(v1i),1))\n",
        "        v1f = np.insert(v1i,0,1,axis=0) # inserts a row of 1s. This is for the bias\n",
        "        h2 = self.weights2.dot(v1f)\n",
        "        v2 = softmax(h2)\n",
        "        v2 = np.reshape(v2, (np.size(v2),1))\n",
        "        y = np.reshape(y, (np.size(y),1))\n",
        "        \n",
        "        del_weights2 = (y - v2)*(v1f.T)\n",
        "        \n",
        "        del_weights1 = ((np.transpose(np.delete(self.weights2,0,1))).dot(y-v2))*v1i*(1-v1i)*(np.transpose(x))\n",
        "        \n",
        "        self.weights1 += eta*del_weights1\n",
        "        self.weights2 += eta*del_weights2\n",
        "        return -np.sum((y)*(np.log(v2)))\n",
        "\n",
        "    def fit(self, X, t, eta, epochs):\n",
        "        '''\n",
        "        input:\n",
        "            X: training input data \n",
        "            t: training targets\n",
        "            eta: learning rate\n",
        "            epochs: number of epochs\n",
        "        Action:\n",
        "            train the weights\n",
        "        '''\n",
        "\n",
        "        ### WRITE YOUR CODE HERE - 5 MARKS\n",
        "        loss = []\n",
        "        temp = 0\n",
        "        index = 0\n",
        "        ind = np.arange(np.size(X,0))\n",
        "        np.random.shuffle(ind)\n",
        "        for i in range(epochs):\n",
        "            for j in ind:\n",
        "                temp += self.backprop(np.transpose(X[j]),np.transpose(t[j]),eta)\n",
        "                index +=1\n",
        "            loss.append(temp/index)\n",
        "            temp = 0\n",
        "        plt.plot(loss)\n",
        "        plt.xlabel(\"Number of Epochs\")\n",
        "        plt.ylabel(\"Loss\")\n",
        "        \n",
        "    def predict_label(self,x):    \n",
        "        '''\n",
        "        Output:\n",
        "            y: np array of index\n",
        "        '''\n",
        "\n",
        "        ### WRITE YOUR CODE HERE - 1 MARKS\n",
        "        y = []\n",
        "        Y = self.predict(x)\n",
        "        for i in range(np.size(Y,axis=1)):\n",
        "            y.append(np.argmax(Y[:,i]))\n",
        "        y = np.array(y)\n",
        "        return y"
      ],
      "execution_count": 0,
      "outputs": []
    },
    {
      "cell_type": "code",
      "metadata": {
        "colab_type": "code",
        "id": "fmR8F2JIFwqm",
        "colab": {}
      },
      "source": [
        "### Lastly, report the accuracy of your model and print the Confusion Matrix\n",
        "#printing the confusion matrix\n",
        "def getCM(y,t):\n",
        "    '''\n",
        "    Inputs:\n",
        "        y: estimated labels np array (Nsample,1)\n",
        "        t: targets np array (Nsamples,1)\n",
        "    Outputs:\n",
        "        CM : np array of confusion matrix\n",
        "    '''\n",
        "\n",
        "    ### WRITE YOUR CODE HERE - 3 MARKS\n",
        "    n = np.size(np.unique(t))\n",
        "    CM = np.zeros((n,n))\n",
        "    for i in range(len(t)):\n",
        "        CM[t[i],y[i]]+=1\n",
        "    accuracy = ((np.sum(np.diagonal(CM)))/(np.sum(CM)))*100\n",
        "    print(\"Accuracy = \",accuracy)\n",
        "    print(CM)\n",
        "    return CM"
      ],
      "execution_count": 0,
      "outputs": []
    },
    {
      "cell_type": "markdown",
      "metadata": {
        "id": "6FsWOCCYaCUS",
        "colab_type": "text"
      },
      "source": [
        "#### Experiments\n",
        "Use the above functions to carry out the experiment:\n",
        "- load iris data and prepare it for NN\n",
        "- split randomly into 20% test data\n",
        "- create a NN with 1 hidden layer\n",
        "- train the network with training data\n",
        "- Plot loss w.r.t. number of epochs\n",
        "- Print confusion matrix on test data"
      ]
    },
    {
      "cell_type": "code",
      "metadata": {
        "colab_type": "code",
        "id": "hewsBv12weZ2",
        "outputId": "b6aadc4e-fcbe-4783-9e38-720fdd646349",
        "scrolled": true,
        "colab": {
          "base_uri": "https://localhost:8080/",
          "height": 354
        }
      },
      "source": [
        "def experiment():\n",
        "\n",
        "    ### WRITE YOUR CODE HERE - 10 MARKS\n",
        "    X,t = loadIrisData()\n",
        "    X_train, t_train, X_test, t_test = splitData(X,t,0.2)\n",
        "    X_train,X_test = normalizeX(X_train, X_test)\n",
        "    N = NeuralNetwork(np.size(X,1),5,np.size(np.unique(t)))\n",
        "    N.init_weights()\n",
        "    N.fit(X_train,one_hot_encoding(t_train,np.size(np.unique(t))),0.01,100)\n",
        "    y = N.predict_label(np.transpose(X_test))\n",
        "    getCM(y,t_test)\n",
        "    \n",
        "if __name__==\"__main__\":\n",
        "    experiment()"
      ],
      "execution_count": 16,
      "outputs": [
        {
          "output_type": "stream",
          "text": [
            "Accuracy =  90.0\n",
            "[[ 5.  0.  0.]\n",
            " [ 0. 14.  2.]\n",
            " [ 0.  1.  8.]]\n"
          ],
          "name": "stdout"
        },
        {
          "output_type": "display_data",
          "data": {
            "image/png": "[encoded data removed]",
            "text/plain": [
              "<Figure size 432x288 with 1 Axes>"
            ]
          },
          "metadata": {
            "tags": []
          }
        }
      ]
    },
    {
      "cell_type": "code",
      "metadata": {
        "id": "NkCB7F_B_2Yo",
        "colab_type": "code",
        "colab": {}
      },
      "source": [
        ""
      ],
      "execution_count": 0,
      "outputs": []
    }
  ]
}