{
  "nbformat": 4,
  "nbformat_minor": 0,
  "metadata": {
    "colab": {
      "name": "170817-Keras.ipynb",
      "provenance": [],
      "collapsed_sections": []
    },
    "kernelspec": {
      "display_name": "Python 3",
      "language": "python",
      "name": "python3"
    },
    "language_info": {
      "codemirror_mode": {
        "name": "ipython",
        "version": 3
      },
      "file_extension": ".py",
      "mimetype": "text/x-python",
      "name": "python",
      "nbconvert_exporter": "python",
      "pygments_lexer": "ipython3",
      "version": "3.7.3"
    }
  },
  "cells": [
    {
      "cell_type": "code",
      "metadata": {
        "colab_type": "code",
        "id": "jLDisQ6gAaMQ",
        "colab": {}
      },
      "source": [
        "import numpy as np\n",
        "import matplotlib.pyplot as plt\n",
        "import sklearn\n",
        "from sklearn.datasets import load_iris\n",
        "\n",
        "import keras\n",
        "from keras.models import Sequential\n",
        "from keras.layers import Dense, Dropout, Activation\n",
        "from keras.optimizers import SGD\n",
        "from keras.utils import to_categorical"
      ],
      "execution_count": 0,
      "outputs": []
    },
    {
      "cell_type": "code",
      "metadata": {
        "colab_type": "code",
        "id": "pwyZu2ibAhO1",
        "colab": {}
      },
      "source": [
        "def loadIrisData():\n",
        "    iris = load_iris()\n",
        "    X=iris['data']\n",
        "    t=iris['target']\n",
        "    print(X.shape)\n",
        "    print(t.shape)\n",
        "    return X, t"
      ],
      "execution_count": 0,
      "outputs": []
    },
    {
      "cell_type": "code",
      "metadata": {
        "colab_type": "code",
        "id": "48_5__HzBks_",
        "colab": {}
      },
      "source": [
        "def one_hot_encoding(t_indices, N):\n",
        "    '''\n",
        "    Inputs:\n",
        "        t_indices: list of indices\n",
        "        N: total no. of classes\n",
        "    '''\n",
        "    assert N>max(t_indices), (N, max(t_indices))\n",
        "\n",
        "    ### WRITE YOUR CODE HERE - 2 MARKS\n",
        "    t = []\n",
        "    for i in range(len(t_indices)):\n",
        "        temp = [0.0 for j in range(N)]\n",
        "        temp[t_indices[i]] = 1.0\n",
        "        t.append(np.array(temp))\n",
        "    t_1hot = np.array(t)\n",
        "    return t_1hot"
      ],
      "execution_count": 0,
      "outputs": []
    },
    {
      "cell_type": "code",
      "metadata": {
        "colab_type": "code",
        "id": "m2DsnXa89lIk",
        "scrolled": true,
        "outputId": "b507f16c-6edd-4657-ce73-afc7ac09e794",
        "colab": {
          "base_uri": "https://localhost:8080/",
          "height": 35
        }
      },
      "source": [
        "def test_one_hot_encoding():\n",
        "    t_1hot = one_hot_encoding([0,2], 3)\n",
        "    t_1hotTrue = np.array([[1.,0.,0.], [0.,0.,1.]])\n",
        "    assert np.all(np.isclose( t_1hot, t_1hotTrue ))\n",
        "    print('Test passed', '\\U0001F44D')\n",
        "if __name__==\"__main__\":\n",
        "    test_one_hot_encoding()"
      ],
      "execution_count": 0,
      "outputs": [
        {
          "output_type": "stream",
          "text": [
            "Test passed 👍\n"
          ],
          "name": "stdout"
        }
      ]
    },
    {
      "cell_type": "code",
      "metadata": {
        "colab_type": "code",
        "id": "VXxxA2YkB_I8",
        "colab": {}
      },
      "source": [
        "def splitData(X,t,testFraction=0.2):\n",
        "    \"\"\"\n",
        "    Use numpy functions only\n",
        "    Inputs:\n",
        "        X: np array of shape (Nsamples, dim)\n",
        "        t: np array of len Nsamples; can be one hot vectors or labels\n",
        "        testFraction: (float) Nsamples_test = testFraction * Nsamples\n",
        "    \"\"\"\n",
        "\n",
        "    ### WRITE YOUR CODE HERE - 2 MARKS\n",
        "    X_train = X\n",
        "    t_train = t\n",
        "    test = np.int_(testFraction*(np.size(X,0)))\n",
        "    ntest = np.sort(np.array(np.random.choice(np.size(X,0)-1, test, replace=False)))\n",
        "    X_test = []\n",
        "    t_test = []\n",
        "    for i in range(len(ntest)):\n",
        "        X_test.append(X_train[ntest[i]-i])\n",
        "        t_test.append(t_train[ntest[i]-i])\n",
        "        t_train = np.delete(t_train,ntest[i]-i,0)\n",
        "        X_train = np.delete(X_train,ntest[i]-i,0)\n",
        "    t_test = np.array(t_test)\n",
        "    X_test = np.array(X_test)\n",
        "    return X_train, t_train, X_test, t_test"
      ],
      "execution_count": 0,
      "outputs": []
    },
    {
      "cell_type": "code",
      "metadata": {
        "id": "vdIZ4LSwYNDj",
        "colab_type": "code",
        "outputId": "9a8a508b-b9e4-4992-8708-974ca6b70ae9",
        "colab": {
          "base_uri": "https://localhost:8080/",
          "height": 35
        }
      },
      "source": [
        "def test_splitData():\n",
        "    X = np.random.random((5,2))\n",
        "    t1hot = one_hot_encoding([1,0,2,1,2],3)\n",
        "    X_train, t1hot_train, X_test, t1hot_test = splitData(X,t1hot,.2)\n",
        "    assert X_train.shape==(4,2), [\"X_train.shape\", X_train.shape]\n",
        "    assert X_test.shape==(1,2), [\"X_test.shape\", X_test.shape]\n",
        "    print('Test passed', '\\U0001F44D')    \n",
        "if __name__==\"__main__\":\n",
        "    test_splitData()"
      ],
      "execution_count": 0,
      "outputs": [
        {
          "output_type": "stream",
          "text": [
            "Test passed 👍\n"
          ],
          "name": "stdout"
        }
      ]
    },
    {
      "cell_type": "code",
      "metadata": {
        "colab_type": "code",
        "id": "OK2lZ6ZpCjAg",
        "colab": {}
      },
      "source": [
        "### Normalize data to be of zero mean and unit variance\n",
        "def normalizeX(X_train, X_test):\n",
        "    '''\n",
        "    Inputs:\n",
        "        X_train: np array 2d\n",
        "        X_test: np array 2d\n",
        "    Outputs:\n",
        "        Normalized np arrays 2d\n",
        "    '''\n",
        "\n",
        "    ### WRITE YOUR CODE HERE - 2 MARKS\n",
        "    X_train_normalized = (X_train - np.mean(X_train, axis = 0))/(np.std(X_train,axis = 0))\n",
        "    X_test_normalized = (X_test - np.mean(X_train, axis = 0))/(np.std(X_train,axis = 0))\n",
        "    return X_train_normalized, X_test_normalized"
      ],
      "execution_count": 0,
      "outputs": []
    },
    {
      "cell_type": "code",
      "metadata": {
        "id": "zeLtG6PsYNDu",
        "colab_type": "code",
        "outputId": "595275e1-18ea-486c-c05f-ec40a3632198",
        "colab": {
          "base_uri": "https://localhost:8080/",
          "height": 35
        }
      },
      "source": [
        "def test_normalizeX():\n",
        "    X_train = np.array([[1,1,0],[2,2,1]])\n",
        "    X_test = np.array([[1,1,0],[3,3,2]])\n",
        "    X_train_normalized, X_test_normalized = normalizeX(X_train, X_test)\n",
        "    a = np.array([[-1.,-1.,-1.], [ 1., 1., 1.]])\n",
        "    b = np.array([[-1.,-1.,-1.], [ 3., 3., 3.]])\n",
        "    assert np.all(np.isclose( X_train_normalized, a )), a\n",
        "    assert np.all(np.isclose( X_test_normalized, b )), b\n",
        "    print('Test passed', '\\U0001F44D')    \n",
        "if __name__==\"__main__\":\n",
        "    test_normalizeX()"
      ],
      "execution_count": 0,
      "outputs": [
        {
          "output_type": "stream",
          "text": [
            "Test passed 👍\n"
          ],
          "name": "stdout"
        }
      ]
    },
    {
      "cell_type": "code",
      "metadata": {
        "colab_type": "code",
        "id": "AJ_OSEoQLEuc",
        "colab": {}
      },
      "source": [
        "def sigmoid(x):\n",
        "    '''\n",
        "    Input:\n",
        "        x: numpy array of any shape\n",
        "    Output:\n",
        "        y: numpy array of same shape as x\n",
        "    '''\n",
        "\n",
        "    ### WRITE YOUR CODE HERE - 1 MARKS\n",
        "    y = 1/(1 + np.exp(-x))\n",
        "    return y"
      ],
      "execution_count": 0,
      "outputs": []
    },
    {
      "cell_type": "code",
      "metadata": {
        "id": "i1FCmUEYYND7",
        "colab_type": "code",
        "outputId": "e9b4ccc8-6aab-49a1-e75b-db6f0eb28f4d",
        "colab": {
          "base_uri": "https://localhost:8080/",
          "height": 35
        }
      },
      "source": [
        "def test_sigmoid():\n",
        "    x = np.array([np.log(4),np.log(0.25),0])\n",
        "    y = sigmoid(x)\n",
        "    assert np.all(np.isclose( y, np.array([0.8, 0.2, 0.5]) )), y\n",
        "    print('Test passed', '\\U0001F44D')    \n",
        "if __name__==\"__main__\":\n",
        "    test_sigmoid()"
      ],
      "execution_count": 0,
      "outputs": [
        {
          "output_type": "stream",
          "text": [
            "Test passed 👍\n"
          ],
          "name": "stdout"
        }
      ]
    },
    {
      "cell_type": "code",
      "metadata": {
        "id": "ejFXFjrIYNEE",
        "colab_type": "code",
        "colab": {}
      },
      "source": [
        "def softmax(x):\n",
        "    '''\n",
        "    Input:\n",
        "        x: numpy array of any shape\n",
        "    Output:\n",
        "        y: numpy array of same shape as x\n",
        "    '''\n",
        "\n",
        "    ### WRITE YOUR CODE HERE - 1 MARKS\n",
        "    y = (np.exp(x))/(np.sum(np.exp(x)))\n",
        "    return y"
      ],
      "execution_count": 0,
      "outputs": []
    },
    {
      "cell_type": "code",
      "metadata": {
        "id": "GuHKYdsaYNEL",
        "colab_type": "code",
        "outputId": "37eecab0-77ff-4cc4-8afe-131399bf5dfb",
        "colab": {
          "base_uri": "https://localhost:8080/",
          "height": 35
        }
      },
      "source": [
        "def test_softmax():\n",
        "    x = np.array([np.log(2),np.log(7),0])\n",
        "    y = softmax(x)\n",
        "    assert np.all(np.isclose( y, np.array([0.2, 0.7, 0.1]) )), y\n",
        "    print('Test passed', '\\U0001F44D')    \n",
        "if __name__==\"__main__\":\n",
        "    test_softmax()"
      ],
      "execution_count": 0,
      "outputs": [
        {
          "output_type": "stream",
          "text": [
            "Test passed 👍\n"
          ],
          "name": "stdout"
        }
      ]
    },
    {
      "cell_type": "code",
      "metadata": {
        "colab_type": "code",
        "id": "Iwi4QwxlOAOR",
        "colab": {}
      },
      "source": [
        "def sigmoid_derivative(x):\n",
        "    '''\n",
        "    Input:\n",
        "        x: numpy array of any shape; it is sigmoid layer's output\n",
        "    Output:\n",
        "        y: numpy array of same shape as x; it is the derivative of sigmoid\n",
        "    '''\n",
        "\n",
        "    ### WRITE YOUR CODE HERE - 1 MARKS\n",
        "    y = (x)*(1-x)\n",
        "    return y"
      ],
      "execution_count": 0,
      "outputs": []
    },
    {
      "cell_type": "code",
      "metadata": {
        "colab_type": "code",
        "id": "fmR8F2JIFwqm",
        "colab": {}
      },
      "source": [
        "### Lastly, report the accuracy of your model and print the Confusion Matrix\n",
        "#printing the confusion matrix\n",
        "def getCM(y,t):\n",
        "    '''\n",
        "    Inputs:\n",
        "        y: estimated labels np array (Nsample,1)\n",
        "        t: targets np array (Nsamples,1)\n",
        "    Outputs:\n",
        "        CM : np array of confusion matrix\n",
        "    '''\n",
        "\n",
        "    ### WRITE YOUR CODE HERE - 3 MARKS\n",
        "    CM = np.zeros((3,3))\n",
        "    for i in range(len(t)):\n",
        "        CM[t[i],np.argmax(y[i])]+=1\n",
        "    accuracy = ((np.sum(np.diagonal(CM)))/(np.sum(CM)))*100\n",
        "    print(\"Accuracy = \",accuracy)\n",
        "    print(\"In confusion matrix, rows correspond to actual values and columns to predicted values\")\n",
        "    print(CM)\n",
        "    return CM"
      ],
      "execution_count": 0,
      "outputs": []
    },
    {
      "cell_type": "markdown",
      "metadata": {
        "id": "45JzzdJPYNEa",
        "colab_type": "text"
      },
      "source": [
        "#### Experiments\n",
        "Use the above functions to carry out the experiment:\n",
        "- load iris data and prepare it for NN\n",
        "- split randomly into 20% test data\n",
        "- create a NN with 1 hidden layer\n",
        "- train the network with training data\n",
        "- Plot loss w.r.t. number of epochs\n",
        "- Print confusion matrix on test data"
      ]
    },
    {
      "cell_type": "code",
      "metadata": {
        "colab_type": "code",
        "id": "hewsBv12weZ2",
        "outputId": "66dfbdbb-6fcd-43a4-95e2-ab8038267fb9",
        "scrolled": true,
        "colab": {
          "base_uri": "https://localhost:8080/",
          "height": 420
        }
      },
      "source": [
        "def experiment_sigmoid():\n",
        "\n",
        "    ### WRITE YOUR CODE HERE - 10 MARKS\n",
        "    X,t = loadIrisData()\n",
        "    X_train, t_train, X_test, t_test = splitData(X,t,0.2)\n",
        "    t_train_one_hot = one_hot_encoding(t_train,4)\n",
        "    X_train,X_test = normalizeX(X_train, X_test)\n",
        "    model = Sequential()\n",
        "    model.add(Dense(8, activation='sigmoid', input_dim=4))\n",
        "    model.add(Dense(4, activation='sigmoid'))\n",
        "    sgd = SGD(lr=0.01)\n",
        "    model.compile(loss='mean_squared_error',\n",
        "              optimizer=sgd,\n",
        "              metrics=['accuracy'])\n",
        "    loss = model.fit(X_train, t_train_one_hot,\n",
        "          epochs=100, verbose=0,\n",
        "          batch_size=1)\n",
        "    plt.plot(loss.history['loss'])\n",
        "    plt.title('Loss v/s Number of Epochs for sigmoid and mean squared error loss')\n",
        "    plt.ylabel('Loss')\n",
        "    plt.xlabel('#Epoch')\n",
        "    plt.show()\n",
        "    predicted_data = model.predict(X_test)\n",
        "    getCM(predicted_data, t_test)\n",
        "    \n",
        "if __name__==\"__main__\":\n",
        "    experiment_sigmoid()"
      ],
      "execution_count": 78,
      "outputs": [
        {
          "output_type": "stream",
          "text": [
            "(150, 4)\n",
            "(150,)\n"
          ],
          "name": "stdout"
        },
        {
          "output_type": "display_data",
          "data": {
            "image/png": "[encoded data removed]",
            "text/plain": [
              "<Figure size 432x288 with 1 Axes>"
            ]
          },
          "metadata": {
            "tags": []
          }
        },
        {
          "output_type": "stream",
          "text": [
            "Accuracy =  93.33333333333333\n",
            "In confusion matrix, rows correspond to actual values and columns to predicted values\n",
            "[[11.  0.  0.]\n",
            " [ 0.  7.  2.]\n",
            " [ 0.  0. 10.]]\n"
          ],
          "name": "stdout"
        }
      ]
    },
    {
      "cell_type": "code",
      "metadata": {
        "id": "woki7F-9jfXf",
        "colab_type": "code",
        "outputId": "aa8d2863-81de-4f00-acc7-9422d9fca364",
        "colab": {
          "base_uri": "https://localhost:8080/",
          "height": 420
        }
      },
      "source": [
        "def experiment_softmax():\n",
        "\n",
        "    ### WRITE YOUR CODE HERE - 10 MARKS\n",
        "    X,t = loadIrisData()\n",
        "    X_train, t_train, X_test, t_test = splitData(X,t,0.2)\n",
        "    t_train_one_hot = one_hot_encoding(t_train,4)\n",
        "    X_train,X_test = normalizeX(X_train, X_test)\n",
        "    model = Sequential()\n",
        "    model.add(Dense(8, activation='sigmoid', input_dim=4))\n",
        "    model.add(Dense(4, activation='softmax'))\n",
        "    sgd = SGD(lr=0.01)\n",
        "    model.compile(loss='categorical_crossentropy',\n",
        "              optimizer=sgd,\n",
        "              metrics=['accuracy'])\n",
        "    loss = model.fit(X_train, t_train_one_hot,\n",
        "          epochs=100, verbose=0,\n",
        "          batch_size=1)\n",
        "    plt.plot(loss.history['loss'])\n",
        "    plt.title('Loss v/s Number of Epochs for softmax and categorical cross-entropy loss')\n",
        "    plt.ylabel('Loss')\n",
        "    plt.xlabel('#Epoch')\n",
        "    plt.show()\n",
        "    predicted_data = model.predict(X_test)\n",
        "    getCM(predicted_data, t_test)\n",
        "    \n",
        "if __name__==\"__main__\":\n",
        "    experiment_softmax()"
      ],
      "execution_count": 79,
      "outputs": [
        {
          "output_type": "stream",
          "text": [
            "(150, 4)\n",
            "(150,)\n"
          ],
          "name": "stdout"
        },
        {
          "output_type": "display_data",
          "data": {
            "image/png": "[encoded data removed]",
            "text/plain": [
              "<Figure size 432x288 with 1 Axes>"
            ]
          },
          "metadata": {
            "tags": []
          }
        },
        {
          "output_type": "stream",
          "text": [
            "Accuracy =  96.66666666666667\n",
            "In confusion matrix, rows correspond to actual values and columns to predicted values\n",
            "[[ 9.  0.  0.]\n",
            " [ 0. 11.  1.]\n",
            " [ 0.  0.  9.]]\n"
          ],
          "name": "stdout"
        }
      ]
    },
    {
      "cell_type": "code",
      "metadata": {
        "id": "dhvdCR7V6989",
        "colab_type": "code",
        "colab": {}
      },
      "source": [
        ""
      ],
      "execution_count": 0,
      "outputs": []
    }
  ]
}