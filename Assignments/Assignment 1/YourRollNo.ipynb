{
 "cells": [
  {
   "cell_type": "markdown",
   "metadata": {},
   "source": [
    "This part of the assignment deals with discrete Fourier transform as well as python programming.\n",
    "\n",
    "A fan is rotating with a constant angular velocity. You are measuring the angle of the fan, with respect to time. To capture this signal reliably, you have to choose your sampling rate carefully.\n",
    "Otherwise, you may see aliasing: https://www.youtube.com/watch?v=R-IVw8OKjvQ"
   ]
  },
  {
   "cell_type": "markdown",
   "metadata": {},
   "source": [
    "### Instructions:\n",
    "- Please rename this file with Your Roll No.\n",
    "- Only edit at \"### WRITE YOUR CODE HERE\"\n",
    "- Evaluation will be done by calling all functions from a test script, so make sure they compile correctly\n",
    "- Render (Kernel > Restart & Run All) before submitting, so that we can see your graphs here"
   ]
  },
  {
   "cell_type": "code",
   "execution_count": null,
   "metadata": {},
   "outputs": [],
   "source": [
    "import numpy as np\n",
    "import matplotlib.pyplot as plt"
   ]
  },
  {
   "cell_type": "markdown",
   "metadata": {},
   "source": [
    "## GENERATE SAMPLES : 3+5 MARKS"
   ]
  },
  {
   "cell_type": "code",
   "execution_count": null,
   "metadata": {},
   "outputs": [],
   "source": [
    "def generate_x(omega, t, x0=0):\n",
    "    '''\n",
    "    Inputs:\n",
    "        omega: scalar float, the angular velocity in radians/s\n",
    "        t: scalar float, time in s\n",
    "        x0: scalar float, initial angle at t=0 in radians, default x0=0\n",
    "    Outputs:\n",
    "        x: scalar float, angle at t=t in radians, between [0, 2 pi)\n",
    "    '''\n",
    "\n",
    "    ### WRITE YOUR CODE HERE - 3 MARKS\n",
    "\n",
    "    return x"
   ]
  },
  {
   "cell_type": "code",
   "execution_count": null,
   "metadata": {},
   "outputs": [],
   "source": [
    "# This is how you can test if your code is working fine\n",
    "def test_generate_x():\n",
    "    x = generate_x(2*np.pi, 2)\n",
    "    assert x==0                # assert that your method returns the correct answer.\n",
    "                               # If not, this statement will give an assertion error.\n",
    "    print('Test passed', '\\U0001F44D')\n",
    "    \n",
    "# Please do not call any function without using \"if __name__==\"__main__\":\" statement. \n",
    "# Otherwise, it will be difficult for the TAs to compile\n",
    "if __name__==\"__main__\":\n",
    "    test_generate_x()"
   ]
  },
  {
   "cell_type": "code",
   "execution_count": null,
   "metadata": {},
   "outputs": [],
   "source": [
    "def sample_x(omega, Fs, tfinal):\n",
    "    '''\n",
    "    Inputs:\n",
    "        omega: scalar float, the angular velocity in radians/s\n",
    "        Fs: (float) sampling rate in Hz\n",
    "        tfinal: (float) final time in s\n",
    "    Output:\n",
    "        xs: (np array, 1D float) samples of x from t=0 to t=tfinal\n",
    "        ts: (np array, 1D float) samples of t from t=0 to t=tfinal, sampled uniformly\n",
    "    '''\n",
    "\n",
    "    ### WRITE YOUR CODE HERE - 5 MARKS\n",
    "\n",
    "    return xs, ts"
   ]
  },
  {
   "cell_type": "code",
   "execution_count": null,
   "metadata": {},
   "outputs": [],
   "source": [
    "def test_sample_x():\n",
    "    xs,ts = sample_x(2*np.pi, 2, 2)\n",
    "    assert np.all( np.isclose(xs, np.array([0., np.pi, 0., np.pi]), atol=0.001) )\n",
    "    assert np.all(np.isclose(ts, np.array([0. , 0.5, 1. , 1.5]), atol=0.001) )\n",
    "    print('Test passed', '\\U0001F44D')\n",
    "\n",
    "if __name__==\"__main__\":\n",
    "    test_sample_x()"
   ]
  },
  {
   "cell_type": "markdown",
   "metadata": {},
   "source": [
    "### Plot Samples"
   ]
  },
  {
   "cell_type": "code",
   "execution_count": null,
   "metadata": {},
   "outputs": [],
   "source": [
    "def plot_xs(xs,ts):\n",
    "    plt.plot(ts, xs, 'o-')\n",
    "\n",
    "if __name__==\"__main__\":\n",
    "    xs,ts = sample_x(2*np.pi, 20, 2)\n",
    "    plot_xs(xs,ts)\n",
    "    plt.show()"
   ]
  },
  {
   "cell_type": "markdown",
   "metadata": {},
   "source": [
    "# DFT OF TIME SERIES : 5 MARKS"
   ]
  },
  {
   "cell_type": "code",
   "execution_count": null,
   "metadata": {},
   "outputs": [],
   "source": [
    "def dft_xs(xs, ts, Nfft):\n",
    "    '''\n",
    "    Inputs:\n",
    "        xs, ts: defined above. Note that ts are uniformly sampled\n",
    "        Nfft: (float) window size for DFT. It may be smaller or larger than len(xs)\n",
    "    Outputs:\n",
    "        Xs: (np array of shape (Nfft,)) magnitude dft of xs\n",
    "        fs: (np array of shape (Nfft,)) frequency value (in Hz) of corresponding index of Xs\n",
    "    '''\n",
    "\n",
    "    ### WRITE YOUR CODE HERE - 5 MARKS\n",
    "\n",
    "    return Xs, fs"
   ]
  },
  {
   "cell_type": "code",
   "execution_count": null,
   "metadata": {},
   "outputs": [],
   "source": [
    "def test_dft_xs():\n",
    "    xs, ts = sample_x(20*np.pi, 10, 5)\n",
    "    Nfft = 5\n",
    "    Xs, fs = dft_xs(xs, ts, Nfft=Nfft)\n",
    "    assert Xs.shape==(Nfft,) or Xs.shape==(Nfft,1)\n",
    "    assert fs.shape==(Nfft,) or fs.shape==(Nfft,1)\n",
    "    print('Test passed', '\\U0001F44D')\n",
    "if __name__==\"__main__\":\n",
    "    test_dft_xs()"
   ]
  },
  {
   "cell_type": "code",
   "execution_count": null,
   "metadata": {},
   "outputs": [],
   "source": [
    "def plot_Xs(Xs,fs):\n",
    "    plt.plot(fs,Xs,'o-')\n",
    "    plt.show()\n",
    "    \n",
    "if __name__==\"__main__\":\n",
    "    xs,ts=sample_x(2*np.pi*4, 5, 20)\n",
    "    plot_xs(xs,ts)\n",
    "    plt.figure()\n",
    "    Xs,fs = dft_xs(xs,ts, 200)\n",
    "    plot_Xs(Xs,fs)"
   ]
  },
  {
   "cell_type": "markdown",
   "metadata": {},
   "source": [
    "# BONUS QUESTION : 5+2 MARKS\n",
    "## The effect of changing sampling frequency\n",
    "Use the above functions to:\n",
    "1. Generate xs with omega = $20\\pi$ for tfinal=5s. Sample with a range of frequencies from 5 to 35, Fs=np.arange(5,35,2.5)\n",
    "2. For each Fs, compute Xs, and plot it as Xs vs f with proper axes labels. Fix the xlim to be 0 to 50Hz on all the plots.\n",
    "\n",
    "Help: To avoid seeing unnecessary peaks at f=0, normalize xs to have zero mean."
   ]
  },
  {
   "cell_type": "code",
   "execution_count": null,
   "metadata": {},
   "outputs": [],
   "source": [
    "def changingFs():\n",
    "\n",
    "    ### WRITE YOUR CODE HERE - 5 MARKS\n",
    "\n",
    "    return\n",
    "\n",
    "if __name__==\"__main__\":\n",
    "    changingFs()\n"
   ]
  },
  {
   "cell_type": "markdown",
   "metadata": {},
   "source": [
    "## Observations\n",
    "What do you see above? Aliasing?\n",
    "\n",
    "1. What happens when Fs < 10Hz?\n",
    "2. What happens when 10Hz < Fs < 20 Hz?\n",
    "3. What happens when Fs > 20 Hz?\n",
    "\n",
    "Write your observations below as text:"
   ]
  },
  {
   "cell_type": "markdown",
   "metadata": {},
   "source": [
    "(2 marks) (double-click to edit)\n",
    "1. \n",
    "2. \n",
    "3. "
   ]
  }
 ],
 "metadata": {
  "kernelspec": {
   "display_name": "Python 3",
   "language": "python",
   "name": "python3"
  },
  "language_info": {
   "codemirror_mode": {
    "name": "ipython",
    "version": 3
   },
   "file_extension": ".py",
   "mimetype": "text/x-python",
   "name": "python",
   "nbconvert_exporter": "python",
   "pygments_lexer": "ipython3",
   "version": "3.6.8"
  }
 },
 "nbformat": 4,
 "nbformat_minor": 2
}
